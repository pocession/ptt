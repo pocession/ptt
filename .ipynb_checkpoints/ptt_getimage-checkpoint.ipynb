{
 "cells": [
  {
   "cell_type": "code",
   "execution_count": 15,
   "metadata": {},
   "outputs": [
    {
     "name": "stdout",
     "output_type": "stream",
     "text": [
      "Enter your address: https://www.ptt.cc/bbs/Beauty/M.1550410323.A.88F.html\n",
      "['https://i.imgur.com/MuQZj9y.jpg', 'https://i.imgur.com/MuQZj9y.jpg', 'https://i.imgur.com/1qzNcTw.jpg', 'https://i.imgur.com/1qzNcTw.jpg', 'https://i.imgur.com/0NcziHw.jpg', 'https://i.imgur.com/0NcziHw.jpg', 'https://i.imgur.com/i7RkwqE.jpg', 'https://i.imgur.com/i7RkwqE.jpg', 'https://i.imgur.com/EildeuX.jpg', 'https://i.imgur.com/EildeuX.jpg', 'https://i.imgur.com/z4gbxNa.jpg', 'https://i.imgur.com/z4gbxNa.jpg', 'https://i.imgur.com/bHJndH7.jpg', 'https://i.imgur.com/bHJndH7.jpg', 'https://i.imgur.com/jCAx5Yq.jpg', 'https://i.imgur.com/jCAx5Yq.jpg', 'https://i.imgur.com/vcZSnj8.jpg', 'https://i.imgur.com/vcZSnj8.jpg', 'https://i.imgur.com/vKjYG2a.jpg', 'https://i.imgur.com/vKjYG2a.jpg', 'https://i.imgur.com/BAFHE3P.jpg', 'https://i.imgur.com/BAFHE3P.jpg']\n",
      "https://i.imgur.com/MuQZj9y.jpg is ok\n",
      "https://i.imgur.com/MuQZj9y.jpg is ok\n",
      "https://i.imgur.com/1qzNcTw.jpg is ok\n",
      "https://i.imgur.com/1qzNcTw.jpg is ok\n",
      "https://i.imgur.com/0NcziHw.jpg is ok\n",
      "https://i.imgur.com/0NcziHw.jpg is ok\n",
      "https://i.imgur.com/i7RkwqE.jpg is ok\n",
      "https://i.imgur.com/i7RkwqE.jpg is ok\n",
      "https://i.imgur.com/EildeuX.jpg is ok\n",
      "https://i.imgur.com/EildeuX.jpg is ok\n",
      "https://i.imgur.com/z4gbxNa.jpg is ok\n",
      "https://i.imgur.com/z4gbxNa.jpg is ok\n",
      "https://i.imgur.com/bHJndH7.jpg is ok\n",
      "https://i.imgur.com/bHJndH7.jpg is ok\n",
      "https://i.imgur.com/jCAx5Yq.jpg is ok\n",
      "https://i.imgur.com/jCAx5Yq.jpg is ok\n",
      "https://i.imgur.com/vcZSnj8.jpg is ok\n",
      "https://i.imgur.com/vcZSnj8.jpg is ok\n",
      "https://i.imgur.com/vKjYG2a.jpg is ok\n",
      "https://i.imgur.com/vKjYG2a.jpg is ok\n",
      "https://i.imgur.com/BAFHE3P.jpg is ok\n",
      "https://i.imgur.com/BAFHE3P.jpg is ok\n"
     ]
    }
   ],
   "source": [
    "# Get all pictures from a specific ptt article(post)\n",
    "\n",
    "import requests\n",
    "import re\n",
    "from bs4 import BeautifulSoup\n",
    "\n",
    "url = input(\"Enter your address: \")\n",
    "response = requests.get(url, cookies={'over18': '1'}) \n",
    "result = response.text\n",
    "soup = BeautifulSoup(result, 'html.parser')\n",
    "soup = soup.find_all('a')\n",
    "soup = str(soup)\n",
    "\n",
    "# Get all url of images\n",
    "# Find all imgur url\n",
    "image_url = re.findall(\"https://[a-z].imgur.com/[0-9a-zA-Z]{7}.[a-zA-z]{3}\",soup)\n",
    "print(image_url)\n",
    "\n",
    "k = 0\n",
    "\n",
    "while k < len(image_url):\n",
    "    filename = image_url[k].split(\"/\")[-1]\n",
    "    r = requests.get(image_url[k], timeout=0.5, stream=True)\n",
    "    if r.status_code == 200:\n",
    "        f = open(filename,'wb')\n",
    "        f.write(r.content)\n",
    "        print(\"{a} is ok\".format(a = image_url[k]))\n",
    "    k += 1\n",
    "print(\"Done\")"
   ]
  }
 ],
 "metadata": {
  "kernelspec": {
   "display_name": "Python 3",
   "language": "python",
   "name": "python3"
  },
  "language_info": {
   "codemirror_mode": {
    "name": "ipython",
    "version": 3
   },
   "file_extension": ".py",
   "mimetype": "text/x-python",
   "name": "python",
   "nbconvert_exporter": "python",
   "pygments_lexer": "ipython3",
   "version": "3.7.2"
  }
 },
 "nbformat": 4,
 "nbformat_minor": 2
}
