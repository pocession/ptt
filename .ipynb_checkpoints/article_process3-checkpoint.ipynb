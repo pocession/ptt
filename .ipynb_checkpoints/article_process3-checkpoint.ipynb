{
 "cells": [
  {
   "cell_type": "code",
   "execution_count": 1,
   "metadata": {
    "scrolled": false
   },
   "outputs": [
    {
     "name": "stderr",
     "output_type": "stream",
     "text": [
      "Building prefix dict from /Users/hsieh/Documents/ptt/dict.txt ...\n",
      "Loading model from cache /var/folders/54/w85qh3vd4xv5v6qz8w4t70940000gn/T/jieba.ubaa545e936adb4bd7ef290058a1bf422.cache\n"
     ]
    },
    {
     "name": "stdout",
     "output_type": "stream",
     "text": [
      "initialize\n",
      "Run main\n",
      "run sentence check\n",
      "Run word, powered by JieBa\n"
     ]
    },
    {
     "name": "stderr",
     "output_type": "stream",
     "text": [
      "Loading model cost 0.717 seconds.\n",
      "Prefix dict has been built succesfully.\n"
     ]
    },
    {
     "name": "stdout",
     "output_type": "stream",
     "text": [
      "Enter one interested word: 飯店\n",
      "Run sentence_selector\n"
     ]
    },
    {
     "ename": "KeyboardInterrupt",
     "evalue": "",
     "output_type": "error",
     "traceback": [
      "\u001b[0;31m---------------------------------------------------------------------------\u001b[0m",
      "\u001b[0;31mKeyboardInterrupt\u001b[0m                         Traceback (most recent call last)",
      "\u001b[0;32m<ipython-input-1-604e18e2443d>\u001b[0m in \u001b[0;36m<module>\u001b[0;34m\u001b[0m\n\u001b[1;32m    115\u001b[0m \u001b[0;32mif\u001b[0m \u001b[0m__name__\u001b[0m \u001b[0;34m==\u001b[0m \u001b[0;34m\"__main__\"\u001b[0m\u001b[0;34m:\u001b[0m\u001b[0;34m\u001b[0m\u001b[0;34m\u001b[0m\u001b[0m\n\u001b[1;32m    116\u001b[0m     \u001b[0mprint\u001b[0m\u001b[0;34m(\u001b[0m\u001b[0;34m\"initialize\"\u001b[0m\u001b[0;34m)\u001b[0m\u001b[0;34m\u001b[0m\u001b[0;34m\u001b[0m\u001b[0m\n\u001b[0;32m--> 117\u001b[0;31m     \u001b[0mmain\u001b[0m\u001b[0;34m(\u001b[0m\u001b[0;34m)\u001b[0m\u001b[0;34m\u001b[0m\u001b[0;34m\u001b[0m\u001b[0m\n\u001b[0m",
      "\u001b[0;32m<ipython-input-1-604e18e2443d>\u001b[0m in \u001b[0;36mmain\u001b[0;34m()\u001b[0m\n\u001b[1;32m    108\u001b[0m     \u001b[0msentence_list\u001b[0m \u001b[0;34m=\u001b[0m \u001b[0msentence_check\u001b[0m\u001b[0;34m(\u001b[0m\u001b[0mlines\u001b[0m\u001b[0;34m)\u001b[0m\u001b[0;34m\u001b[0m\u001b[0;34m\u001b[0m\u001b[0m\n\u001b[1;32m    109\u001b[0m     \u001b[0mword_list\u001b[0m\u001b[0;34m=\u001b[0m\u001b[0mword\u001b[0m\u001b[0;34m(\u001b[0m\u001b[0msentence_list\u001b[0m\u001b[0;34m)\u001b[0m\u001b[0;34m\u001b[0m\u001b[0;34m\u001b[0m\u001b[0m\n\u001b[0;32m--> 110\u001b[0;31m     \u001b[0ma\u001b[0m \u001b[0;34m=\u001b[0m \u001b[0mselector\u001b[0m\u001b[0;34m(\u001b[0m\u001b[0mword_list\u001b[0m\u001b[0;34m,\u001b[0m\u001b[0minput\u001b[0m\u001b[0;34m(\u001b[0m\u001b[0;34m\"Enter one interested word: \"\u001b[0m\u001b[0;34m)\u001b[0m\u001b[0;34m)\u001b[0m\u001b[0;34m\u001b[0m\u001b[0;34m\u001b[0m\u001b[0m\n\u001b[0m\u001b[1;32m    111\u001b[0m     \u001b[0mbag_word\u001b[0m \u001b[0;34m=\u001b[0m \u001b[0mbag_of_words\u001b[0m\u001b[0;34m(\u001b[0m\u001b[0mword_list\u001b[0m\u001b[0;34m)\u001b[0m\u001b[0;34m\u001b[0m\u001b[0;34m\u001b[0m\u001b[0m\n\u001b[1;32m    112\u001b[0m     \u001b[0mword_count\u001b[0m\u001b[0;34m(\u001b[0m\u001b[0mbag_word\u001b[0m\u001b[0;34m)\u001b[0m\u001b[0;34m\u001b[0m\u001b[0;34m\u001b[0m\u001b[0m\n",
      "\u001b[0;32m<ipython-input-1-604e18e2443d>\u001b[0m in \u001b[0;36mselector\u001b[0;34m(a, b)\u001b[0m\n\u001b[1;32m     85\u001b[0m             \u001b[0;32mwhile\u001b[0m \u001b[0mk\u001b[0m \u001b[0;34m<\u001b[0m \u001b[0mlen\u001b[0m\u001b[0;34m(\u001b[0m\u001b[0melement\u001b[0m\u001b[0;34m)\u001b[0m\u001b[0;34m:\u001b[0m\u001b[0;34m\u001b[0m\u001b[0;34m\u001b[0m\u001b[0m\n\u001b[1;32m     86\u001b[0m                 \u001b[0mt\u001b[0m \u001b[0;34m=\u001b[0m \u001b[0melement\u001b[0m\u001b[0;34m[\u001b[0m\u001b[0mk\u001b[0m\u001b[0;34m]\u001b[0m\u001b[0;34m\u001b[0m\u001b[0;34m\u001b[0m\u001b[0m\n\u001b[0;32m---> 87\u001b[0;31m                 \u001b[0;32mif\u001b[0m \u001b[0mt\u001b[0m \u001b[0;34m==\u001b[0m \u001b[0mword\u001b[0m\u001b[0;34m:\u001b[0m\u001b[0;34m\u001b[0m\u001b[0;34m\u001b[0m\u001b[0m\n\u001b[0m\u001b[1;32m     88\u001b[0m                     \u001b[0mnew_list\u001b[0m\u001b[0;34m.\u001b[0m\u001b[0mappend\u001b[0m\u001b[0;34m(\u001b[0m\u001b[0melement\u001b[0m\u001b[0;34m)\u001b[0m\u001b[0;34m\u001b[0m\u001b[0;34m\u001b[0m\u001b[0m\n\u001b[1;32m     89\u001b[0m             \u001b[0mk\u001b[0m\u001b[0;34m+=\u001b[0m\u001b[0;36m1\u001b[0m\u001b[0;34m\u001b[0m\u001b[0;34m\u001b[0m\u001b[0m\n",
      "\u001b[0;31mKeyboardInterrupt\u001b[0m: "
     ]
    }
   ],
   "source": [
    "# Some practice for word2vec\n",
    "# Get contends from an article and process it into a bag of word (continuous bag-of-word model, CBOW)\n",
    "\n",
    "import scipy\n",
    "import numpy\n",
    "import gensim\n",
    "import re\n",
    "import jieba\n",
    "\n",
    "# Receive a list containing lines of an article\n",
    "# Remove unwanted characters\n",
    "# Retrun a list containing sentences of an article\n",
    "def sentence_check(a):\n",
    "    # The faster way is creating a list, then checking any unwanted characters before replacing it. \n",
    "    # However, this way produces multiple output, which increase some complexity \n",
    "    print(\"run sentence check\")\n",
    "    check_list=a\n",
    "    return_list=[]\n",
    "    for element in check_list:\n",
    "        element = re.sub(' +','',element)\n",
    "        element.replace('\\n','').replace('-','').replace(' - ','').replace('，','')\n",
    "        return_list.append(element)\n",
    "    \n",
    "    # Remove \\n in list\n",
    "    return_list = [x for x in return_list if x != '\\n']\n",
    "    return(return_list)\n",
    "\n",
    "\n",
    "# Read sentences of an article and process them as a bag of words\n",
    "# Use jieba module to recognize chinese words\n",
    "# Need a dictionary of common tradition Chinese words\n",
    "# Need a dictionary of stop words\n",
    "# Return a list of lists of words (still keep the sentence information)\n",
    "def word(a):\n",
    "    print(\"Run word, powered by JieBa\")\n",
    "    input_list = a\n",
    "    jieba.set_dictionary('dict.txt')\n",
    "    stops = open('stop.txt', 'r', encoding='utf8') \n",
    "    stopword = stops.read().split('\\n')\n",
    "    stops.close()\n",
    "    \n",
    "    # Update stop words\n",
    "    stopword.append('\\n')\n",
    "    \n",
    "    new_list=[]\n",
    "    i = 0\n",
    "    \n",
    "    # Remove any stop words from list\n",
    "    while i < len(input_list):\n",
    "        element = input_list[i]\n",
    "        new_list.append([t for t in jieba.cut(element) if t not in stopword])\n",
    "        i+=1\n",
    "    \n",
    "    return(new_list)\n",
    "\n",
    "\n",
    "# Read a list of lists of words\n",
    "# Merge all lists\n",
    "# Return a list of words of an article (a bag of word)\n",
    "def bag_of_words(a):\n",
    "    print(\"Run bag_of_words\")\n",
    "    input_list = a\n",
    "    new_list=[]\n",
    "    i = 0\n",
    "    while i < len(input_list):\n",
    "        new_list += input_list[i]\n",
    "        i += 1\n",
    "    return(new_list)        \n",
    "\n",
    "\n",
    "# Select sentences containing interested words\n",
    "def selector(a,b):\n",
    "    print(\"Run sentence_selector\")\n",
    "    input_list = a\n",
    "    word = b\n",
    "    new_list=[]\n",
    "    if word == \"\":\n",
    "        new_list = input_list\n",
    "        return(new_list)\n",
    "\n",
    "    else:\n",
    "        i = 0\n",
    "        while i < len(input_list):\n",
    "            element = input_list[i]\n",
    "            j = 0\n",
    "            while j < len(element):\n",
    "                t = element[j]\n",
    "                if t == word:\n",
    "                    new_list.append(element)\n",
    "                j+=1\n",
    "            i+=1\n",
    "    \n",
    "    return(new_list)\n",
    "\n",
    "    \n",
    "# Count frequency of a word in a bag of words \n",
    "def word_count(a):\n",
    "    print(\"Run word_count\")\n",
    "    input_list = a\n",
    "    from collections import Counter\n",
    "    Counter(input_list)\n",
    "    \n",
    "    \n",
    "def main():\n",
    "    print(\"Run main\")\n",
    "    fp = open('test.txt','r')\n",
    "    lines = fp.readlines()\n",
    "    fp.close()\n",
    "    sentence_list = sentence_check(lines)\n",
    "    word_list=word(sentence_list)\n",
    "    a = selector(word_list,input(\"Enter one interested word: \"))\n",
    "    bag_word = bag_of_words(word_list)\n",
    "    word_count(bag_word)\n",
    "    print(\"Selected words are: \",a) \n",
    "    \n",
    "if __name__ == \"__main__\":\n",
    "    print(\"initialize\")\n",
    "    main() "
   ]
  },
  {
   "cell_type": "code",
   "execution_count": null,
   "metadata": {},
   "outputs": [],
   "source": []
  }
 ],
 "metadata": {
  "kernelspec": {
   "display_name": "Python 3",
   "language": "python",
   "name": "python3"
  },
  "language_info": {
   "codemirror_mode": {
    "name": "ipython",
    "version": 3
   },
   "file_extension": ".py",
   "mimetype": "text/x-python",
   "name": "python",
   "nbconvert_exporter": "python",
   "pygments_lexer": "ipython3",
   "version": "3.7.2"
  }
 },
 "nbformat": 4,
 "nbformat_minor": 2
}
