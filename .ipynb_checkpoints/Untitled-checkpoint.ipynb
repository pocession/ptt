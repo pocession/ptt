{
 "cells": [
  {
   "cell_type": "code",
   "execution_count": null,
   "metadata": {},
   "outputs": [],
   "source": [
    "import requests\n",
    "\n",
    "from bs4 import BeautifulSoup\n",
    "\n",
    "text_list=[]\n",
    "for element in articleid_list:\n",
    "    url=\"\"https://www.ptt.cc/bbs/Japan_Travel/M.1551698011.A.3E0.htm\"\n",
    "    response = requests.get(url, cookies={'over18': '1'})\n",
    "    result = response.text\n",
    "    soup = BeautifulSoup(result, 'html.parser')\n",
    "    soup = soup.find(id=\"main-content\")\n",
    "    for span in soup('span'):\n",
    "        print(span)\n",
    "        span.decompose()\n",
    "    for div in soup('div'):\n",
    "        div.decompose()\n",
    "    for a in soup('a'):\n",
    "        a.decompose()\n",
    "    text_list.append(soup.text)"
   ]
  }
 ],
 "metadata": {
  "kernelspec": {
   "display_name": "Python 3",
   "language": "python",
   "name": "python3"
  },
  "language_info": {
   "codemirror_mode": {
    "name": "ipython",
    "version": 3
   },
   "file_extension": ".py",
   "mimetype": "text/x-python",
   "name": "python",
   "nbconvert_exporter": "python",
   "pygments_lexer": "ipython3",
   "version": "3.7.2"
  }
 },
 "nbformat": 4,
 "nbformat_minor": 2
}
