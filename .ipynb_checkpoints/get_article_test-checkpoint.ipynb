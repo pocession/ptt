{
 "cells": [
  {
   "cell_type": "code",
   "execution_count": 1,
   "metadata": {},
   "outputs": [
    {
     "name": "stdout",
     "output_type": "stream",
     "text": [
      "Enter id:M.1517194272.A.97B.html\n"
     ]
    }
   ],
   "source": [
    "import requests\n",
    "\n",
    "from bs4 import BeautifulSoup\n",
    "articleid=input(\"Enter id:\")\n",
    "text_list=[]\n",
    "\n",
    "url=\"https://www.ptt.cc/bbs/Japan_Travel/\"+articleid\n",
    "response = requests.get(url, cookies={'over18': '1'})\n",
    "result = response.text\n",
    "soup = BeautifulSoup(result, 'html.parser')\n",
    "soup = soup.find(id=\"main-content\")\n",
    "if soup != None:\n",
    "            for span in soup('span'):\n",
    "                span.decompose()\n",
    "            for div in soup('div'):\n",
    "                div.decompose()\n",
    "            for a in soup('a'):\n",
    "                a.decompose()\n",
    "            text_list.append(soup.text)\n",
    "else:\n",
    "    print(\"sorry, no page\")"
   ]
  },
  {
   "cell_type": "code",
   "execution_count": 2,
   "metadata": {},
   "outputs": [
    {
     "data": {
      "text/plain": [
       "['\\n因為我跟同學都對自己駕車的技術沒信心，幾次來沖繩都是坐大眾運輸系統。\\n\\n這次想挑戰離那霸比較遠的中城城跟中村家老屋，老實說在尋找坐車方式時著實遇到困難\\n。\\n\\n大部分的遊記都是開車去，我們找了網路幾篇文章，有人說搭車到「普天間」轉58路公車\\n，但是用沖繩公車網站上，找不到58路。然後也有人說普天間搭計程車過去，但是很擔心\\n回程沒計程車下山...\\n\\n最後找到一篇是說可以搭30路到中城小學校前，走兩公里上去。在用google map搜尋半天\\n都找不到更近的公車站牌後，決定跟同學走山路...\\n\\n我們先從美榮橋的公車站上車，過了一個鐘頭後終於抵達中城小學。司機先生看我們兩個\\n一臉呆樣，好心的問我們要去哪？還多開了一百公尺到上山的路口放我們下來，指著牌子\\n說一路往上。\\n\\n才開始走沒多久，就下雨了......\\n\\n只好到附近的納骨塔旁的小涼亭躲雨 XD\\n\\n\\n還好雨很快就停了，我們繼續爬山。一路上風景很好啊！\\n\\n大概走了半個鐘頭，我們終於到了中城城跡。\\n\\n買票後，買票阿姨提醒我們有免費接駁車可搭，接駁車會載我們到最高處，我們再慢慢邊\\n逛邊下山。\\n\\n\\n\\n中城城滿大的，而且環境非常遼闊。強烈懷疑沖繩政府為了不讓太多遊客來破壞古蹟，故\\n意把交通方式弄得這麼不方便\\n\\n\\n\\n逛完中城城後，我們又花了約10分鐘走去中村家老屋。\\n\\n\\n\\n中村家老屋不大，但是很舒服，又沒人，我們兩個坐在廊下思考人生大事度過悠閒的一小\\n時，去隔壁販賣部吃喝免費的茶跟黑糖凍，販賣部阿姨英文不錯，也很可愛～\\n\\n此時已下午快三點，肚子超餓的狀況下用google map看到附近有餐廳，冒險一試，沒想到\\n主打健康餐廳的食物意外好吃。\\n\\n\\n\\n\\n\\n餐廳有免費茶跟咖啡，然後套餐可以自選一份當日健康蔬食，我選的可樂餅很香，我同學\\n的青蔥蕎麥麵也很好吃，意外的驚喜！\\n\\n吃飽喝足後就原路下山，走沒多久就開始下大雨......還好已經是回程，我們靠著Gortex外\\n套跟帽子撐到車站，渡過愉快的一天\\n\\n個人覺得中城城跟中村家老屋值得一逛，只要多留點時間，健行也是可到。供大家參考！\\n\\n--\\n']"
      ]
     },
     "execution_count": 2,
     "metadata": {},
     "output_type": "execute_result"
    }
   ],
   "source": [
    "# print out what you get\n",
    "text_list"
   ]
  },
  {
   "cell_type": "code",
   "execution_count": 3,
   "metadata": {},
   "outputs": [
    {
     "name": "stdout",
     "output_type": "stream",
     "text": [
      "['因為我跟同學都對自己駕車的技術沒信心', '幾次來沖繩都是坐大眾運輸系統', '這次想挑戰離那霸比較遠的中城城跟中村家老屋', '老實說在尋找坐車方式時著實遇到困難', '大部分的遊記都是開車去', '我們找了網路幾篇文章', '有人說搭車到「普天間」轉58路公車', '但是用沖繩公車網站上', '找不到58路', '然後也有人說普天間搭計程車過去', '但是很擔心回程沒計程車下山', '最後找到一篇是說可以搭30路到中城小學校前', '走兩公里上去', '在用google', 'map搜尋半天都找不到更近的公車站牌後', '決定跟同學走山路', '我們先從美榮橋的公車站上車', '過了一個鐘頭後終於抵達中城小學', '司機先生看我們兩個一臉呆樣', '好心的問我們要去哪？還多開了一百公尺到上山的路口放我們下來', '指著牌子說一路往上', '才開始走沒多久', '就下雨了', '只好到附近的納骨塔旁的小涼亭躲雨', 'XD還好雨很快就停了', '我們繼續爬山', '一路上風景很好啊', '大概走了半個鐘頭', '我們終於到了中城城跡', '買票後', '買票阿姨提醒我們有免費接駁車可搭', '接駁車會載我們到最高處', '我們再慢慢邊逛邊下山', '中城城滿大的', '而且環境非常遼闊', '強烈懷疑沖繩政府為了不讓太多遊客來破壞古蹟', '故意把交通方式弄得這麼不方便逛完中城城後', '我們又花了約10分鐘走去中村家老屋', '中村家老屋不大', '但是很舒服', '又沒人', '我們兩個坐在廊下思考人生大事度過悠閒的一小時', '去隔壁販賣部吃喝免費的茶跟黑糖凍', '販賣部阿姨英文不錯', '也很可愛～此時已下午快三點', '肚子超餓的狀況下用google', 'map看到附近有餐廳', '冒險一試', '沒想到主打健康餐廳的食物意外好吃', '餐廳有免費茶跟咖啡', '然後套餐可以自選一份當日健康蔬食', '我選的可樂餅很香', '我同學的青蔥蕎麥麵也很好吃', '意外的驚喜', '吃飽喝足後就原路下山', '走沒多久就開始下大雨', '還好已經是回程', '我們靠著Gortex外套跟帽子撐到車站', '渡過愉快的一天個人覺得中城城跟中村家老屋值得一逛', '只要多留點時間', '健行也是可到', '供大家參考', '']\n"
     ]
    }
   ],
   "source": [
    "import re\n",
    "# Break into sentences\n",
    "temp_list=[]\n",
    "sentence_list=[]\n",
    "pattern = r',|\\.|/|;|\\'|`|\\[|\\]|<|>|\\?|:|\"|\\{|\\}|\\~|!|@|#|\\$|%|\\^|&|\\(|\\)|-|=|\\_|\\+|，|。|、|；|‘|’|【|】|·|！| |…|（|）' \n",
    "    \n",
    "for element in text_list:\n",
    "    element = re.split(pattern,element)\n",
    "    for t in element:\n",
    "        if t != '':\n",
    "            temp_list.append(t)\n",
    "    \n",
    "# Remove \\n in list\n",
    "temp_list = [x for x in temp_list if x != '\\n']\n",
    "for item in temp_list:\n",
    "    item = item.replace(\"\\n\",\"\")\n",
    "    sentence_list.append(item)\n",
    "\n",
    "# Print out sentence list    \n",
    "print(sentence_list)"
   ]
  },
  {
   "cell_type": "code",
   "execution_count": 4,
   "metadata": {
    "scrolled": true
   },
   "outputs": [
    {
     "name": "stderr",
     "output_type": "stream",
     "text": [
      "Building prefix dict from /Users/hsieh/Documents/ptt/dict.txt ...\n",
      "Loading model from cache /var/folders/54/w85qh3vd4xv5v6qz8w4t70940000gn/T/jieba.ubaa545e936adb4bd7ef290058a1bf422.cache\n"
     ]
    },
    {
     "name": "stdout",
     "output_type": "stream",
     "text": [
      "Run word, powered by JieBa\n"
     ]
    },
    {
     "name": "stderr",
     "output_type": "stream",
     "text": [
      "Loading model cost 0.867 seconds.\n",
      "Prefix dict has been built succesfully.\n"
     ]
    },
    {
     "name": "stdout",
     "output_type": "stream",
     "text": [
      "['同學', '駕車', '技術', '信心', '幾次', '沖繩', '坐', '大眾', '運輸', '系統', '這次', '想', '挑戰', '那霸', '比較', '遠', '中城城', '中村', '家', '老屋', '老實說', '尋找', '坐車', '方式', '時', '著實', '遇到', '困難', '大部分', '遊記', '開車', '找', '網路', '幾篇', '文章', '人', '說', '搭車', '「', '普天間', '」', '轉', '58', '路', '公車', '沖繩', '公車', '網站', '找不到', '58', '路', '人', '說', '普天間', '搭', '計程車', '過去', '擔心', '回程', '計程車', '下山', '最後', '找到', '一篇', '說', '搭', '30', '路到', '中城', '小', '學校', '前', '走', '兩', '公里', 'google', 'map', '搜尋', '半天', '找', '公車站牌', '後', '決定', '同學', '走', '山路', '先', '美榮橋', '公車站', '上車', '過了', '一個', '鐘頭', '後', '終於', '抵達', '中城', '小學', '司機', '先生', '兩個', '一臉', '呆樣', '好心', '的問', '還多開', '一百', '公尺', '上山', '路口', '放', '下來', '指著', '牌子', '說', '一路', '往上', '走', '多久', '下雨', '只好', '附近', '納骨塔', '旁', '小', '涼亭', '躲雨', 'XD', '還好', '雨', '停', '繼續', '爬山', '一路', '風景', '好', '走', '半個', '鐘頭', '終於', '中城城跡', '買票', '後', '買票', '阿姨', '提醒', '免費', '接駁車', '搭', '接駁車', '會載', '最高處', '再', '慢慢', '逛邊', '下山', '中城城', '滿大', '環境', '遼闊', '強烈', '懷疑', '沖繩', '政府', '太多', '遊客', '破壞', '古蹟', '交通', '方式', '弄得', '方便', '逛完', '中城城', '後', '花', '約', '10', '分鐘', '走去', '中村', '家', '老屋', '中村', '家', '老屋', '舒服', '沒人', '兩個', '坐', '廊下', '思考', '人生', '度過', '悠閒', '一小時', '隔壁', '販賣部', '吃喝', '免費', '茶', '黑糖', '凍', '販賣部', '阿姨', '英文', '不錯', '可愛', '此時', '已', '下午', '快三點', '肚子', '超餓', '狀況', '下用', 'google', 'map', '看到', '附近', '餐廳', '冒險', '試', '沒想到', '主打', '健康', '餐廳', '食物', '意外', '好吃', '餐廳', '免費', '茶', '咖啡', '套餐', '自選', '一份', '當日', '健康', '蔬食', '我選', '可樂', '餅很香', '同學', '青蔥', '蕎麥麵', '好吃', '意外', '驚喜', '吃飽', '喝足', '後', '原路', '下山', '走', '多久', '下', '大雨', '還好', '已經', '回程', 'Gortex', '外套', '帽子', '撐到', '車站', '渡過', '愉快', '一天個', '人', '覺得', '中城城', '中村', '家', '老屋', '值得', '一逛', '留點', '時間', '健行', '可到', '供', '參考']\n"
     ]
    }
   ],
   "source": [
    "import jieba\n",
    "\n",
    "# Process into wrods by Jieba\n",
    "print(\"Run word, powered by JieBa\")\n",
    "\n",
    "jieba.set_dictionary('dict.txt')\n",
    "stops = open('stop.txt', 'r', encoding='utf8') \n",
    "stopword = stops.read().split('\\n')\n",
    "stops.close()\n",
    "    \n",
    "# Update stop words\n",
    "stoplist=['\\n',' ','']\n",
    "for element in stoplist:\n",
    "    stopword.append(element)\n",
    "\n",
    "# Remove any stop words from list\n",
    "new_list=[]\n",
    "i = 0\n",
    "while i < len(sentence_list):\n",
    "    element = sentence_list[i]\n",
    "    new_list.append([t for t in jieba.cut(element) if t not in stopword])\n",
    "    i+=1\n",
    "    \n",
    "# Return a bag of words\n",
    "jieba_list=[]\n",
    "j = 0\n",
    "while j < len(new_list):\n",
    "    jieba_list += new_list[j]\n",
    "    j += 1\n",
    "print(jieba_list)   "
   ]
  },
  {
   "cell_type": "code",
   "execution_count": 5,
   "metadata": {},
   "outputs": [
    {
     "name": "stdout",
     "output_type": "stream",
     "text": [
      "Run Pool\n",
      "同學,駕車,技術,信心,幾次,沖繩,坐,大眾,運輸,系統,這次,想,挑戰,那霸,比較,遠,中城城,中村,家,老屋,老實說,尋找,坐車,方式,時,著實,遇到,困難,大部分,遊記,開車,找,網路,幾篇,文章,人,說,搭車,「,普天間,」,轉,58,路,公車,沖繩,公車,網站,找不到,58,路,人,說,普天間,搭,計程車,過去,擔心,回程,計程車,下山,最後,找到,一篇,說,搭,30,路到,中城,小,學校,前,走,兩,公里,google,map,搜尋,半天,找,公車站牌,後,決定,同學,走,山路,先,美榮橋,公車站,上車,過了,一個,鐘頭,後,終於,抵達,中城,小學,司機,先生,兩個,一臉,呆樣,好心,的問,還多開,一百,公尺,上山,路口,放,下來,指著,牌子,說,一路,往上,走,多久,下雨,只好,附近,納骨塔,旁,小,涼亭,躲雨,XD,還好,雨,停,繼續,爬山,一路,風景,好,走,半個,鐘頭,終於,中城城跡,買票,後,買票,阿姨,提醒,免費,接駁車,搭,接駁車,會載,最高處,再,慢慢,逛邊,下山,中城城,滿大,環境,遼闊,強烈,懷疑,沖繩,政府,太多,遊客,破壞,古蹟,交通,方式,弄得,方便,逛完,中城城,後,花,約,10,分鐘,走去,中村,家,老屋,中村,家,老屋,舒服,沒人,兩個,坐,廊下,思考,人生,度過,悠閒,一小時,隔壁,販賣部,吃喝,免費,茶,黑糖,凍,販賣部,阿姨,英文,不錯,可愛,此時,已,下午,快三點,肚子,超餓,狀況,下用,google,map,看到,附近,餐廳,冒險,試,沒想到,主打,健康,餐廳,食物,意外,好吃,餐廳,免費,茶,咖啡,套餐,自選,一份,當日,健康,蔬食,我選,可樂,餅很香,同學,青蔥,蕎麥麵,好吃,意外,驚喜,吃飽,喝足,後,原路,下山,走,多久,下,大雨,還好,已經,回程,Gortex,外套,帽子,撐到,車站,渡過,愉快,一天個,人,覺得,中城城,中村,家,老屋,值得,一逛,留點,時間,健行,可到,供,參考\n"
     ]
    }
   ],
   "source": [
    "# Pool all words\n",
    "print(\"Run Pool\")\n",
    "return_string = ','.join(jieba_list)\n",
    "print(return_string)"
   ]
  },
  {
   "cell_type": "code",
   "execution_count": 6,
   "metadata": {},
   "outputs": [
    {
     "name": "stdout",
     "output_type": "stream",
     "text": [
      "Update database\n"
     ]
    },
    {
     "ename": "OperationalError",
     "evalue": "no such table: article_large",
     "output_type": "error",
     "traceback": [
      "\u001b[0;31m---------------------------------------------------------------------------\u001b[0m",
      "\u001b[0;31mOperationalError\u001b[0m                          Traceback (most recent call last)",
      "\u001b[0;32m<ipython-input-6-e97675b74391>\u001b[0m in \u001b[0;36m<module>\u001b[0;34m\u001b[0m\n\u001b[1;32m      7\u001b[0m \u001b[0mconn\u001b[0m \u001b[0;34m=\u001b[0m \u001b[0msqlite3\u001b[0m\u001b[0;34m.\u001b[0m\u001b[0mconnect\u001b[0m\u001b[0;34m(\u001b[0m\u001b[0;34m'ptt.db'\u001b[0m\u001b[0;34m)\u001b[0m\u001b[0;34m\u001b[0m\u001b[0;34m\u001b[0m\u001b[0m\n\u001b[1;32m      8\u001b[0m \u001b[0mc\u001b[0m \u001b[0;34m=\u001b[0m \u001b[0mconn\u001b[0m\u001b[0;34m.\u001b[0m\u001b[0mcursor\u001b[0m\u001b[0;34m(\u001b[0m\u001b[0;34m)\u001b[0m\u001b[0;34m\u001b[0m\u001b[0;34m\u001b[0m\u001b[0m\n\u001b[0;32m----> 9\u001b[0;31m \u001b[0mc\u001b[0m\u001b[0;34m.\u001b[0m\u001b[0mexecute\u001b[0m\u001b[0;34m(\u001b[0m\u001b[0;34m\"UPDATE article_large SET content = ? where id=?\"\u001b[0m\u001b[0;34m,\u001b[0m\u001b[0;34m(\u001b[0m\u001b[0marticlecontent\u001b[0m\u001b[0;34m,\u001b[0m\u001b[0marticleid\u001b[0m\u001b[0;34m)\u001b[0m\u001b[0;34m)\u001b[0m\u001b[0;34m\u001b[0m\u001b[0;34m\u001b[0m\u001b[0m\n\u001b[0m\u001b[1;32m     10\u001b[0m \u001b[0mconn\u001b[0m\u001b[0;34m.\u001b[0m\u001b[0mcommit\u001b[0m\u001b[0;34m(\u001b[0m\u001b[0;34m)\u001b[0m\u001b[0;34m\u001b[0m\u001b[0;34m\u001b[0m\u001b[0m\n\u001b[1;32m     11\u001b[0m \u001b[0mprint\u001b[0m\u001b[0;34m(\u001b[0m\u001b[0;34m\"Update database done!\"\u001b[0m\u001b[0;34m)\u001b[0m\u001b[0;34m\u001b[0m\u001b[0;34m\u001b[0m\u001b[0m\n",
      "\u001b[0;31mOperationalError\u001b[0m: no such table: article_large"
     ]
    }
   ],
   "source": [
    "import sqlite3\n",
    "\n",
    "# Update database\n",
    "print(\"Update database\")\n",
    "articleid = articleid\n",
    "articlecontent = return_string\n",
    "conn = sqlite3.connect('ptt.db')\n",
    "c = conn.cursor()\n",
    "c.execute(\"UPDATE article_large SET content = ? where id=?\",(articlecontent,articleid))\n",
    "conn.commit()\n",
    "print(\"Update database done!\")"
   ]
  },
  {
   "cell_type": "code",
   "execution_count": null,
   "metadata": {},
   "outputs": [],
   "source": []
  }
 ],
 "metadata": {
  "kernelspec": {
   "display_name": "Python 3",
   "language": "python",
   "name": "python3"
  },
  "language_info": {
   "codemirror_mode": {
    "name": "ipython",
    "version": 3
   },
   "file_extension": ".py",
   "mimetype": "text/x-python",
   "name": "python",
   "nbconvert_exporter": "python",
   "pygments_lexer": "ipython3",
   "version": "3.7.2"
  }
 },
 "nbformat": 4,
 "nbformat_minor": 2
}
