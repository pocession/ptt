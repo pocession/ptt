{
 "cells": [
  {
   "cell_type": "code",
   "execution_count": 14,
   "metadata": {},
   "outputs": [
    {
     "name": "stdout",
     "output_type": "stream",
     "text": [
      "Starting training using file text8\n",
      "Words processed: 17000K     Vocab size: 4399K  \n",
      "Vocab size (unigrams + bigrams): 2419827\n",
      "Words in train file: 17005206\n",
      "Words written: 17000K\r"
     ]
    }
   ],
   "source": [
    "import word2vec\n",
    "word2vec.word2phrase('text8', 'text8_phrases', verbose=True)"
   ]
  },
  {
   "cell_type": "code",
   "execution_count": 16,
   "metadata": {},
   "outputs": [
    {
     "name": "stdout",
     "output_type": "stream",
     "text": [
      "Starting training using file text8_phrases\n",
      "Vocab size: 98331\n",
      "Words in train file: 15857306\n",
      "Alpha: 0.000002  Progress: 100.03%  Words/thread/sec: 296.53k    Words/thread/sec: 285.47k  ds/thread/sec: 291.21k  ad/sec: 293.44k    a: 0.024442  Progress: 2.24%  Words/thread/sec: 296.96k  ogress: 2.68%  Words/thread/sec: 295.23k   2.90%  Words/thread/sec: 294.80k   Words/thread/sec: 296.29k  thread/sec: 296.12k  sec: 295.05k  6.40k   0.023946  Progress: 4.23%  Words/thread/sec: 296.09k  92  Progress: 4.44%  Words/thread/sec: 297.73k  gress: 4.66%  Words/thread/sec: 297.58k  4.88%  Words/thread/sec: 296.65k  Words/thread/sec: 298.24k  sec: 296.77k  ec: 296.68k  .05k  0.023452  Progress: 6.20%  Words/thread/sec: 296.57k  8  Progress: 6.42%  Words/thread/sec: 297.06k  ress: 6.64%  Words/thread/sec: 297.31k  .86%  Words/thread/sec: 296.51k  ead/sec: 297.88k  : 297.87k  9k  pha: 0.023011  Progress: 7.97%  Words/thread/sec: 297.98k  022957  Progress: 8.19%  Words/thread/sec: 297.51k   Progress: 8.40%  Words/thread/sec: 298.66k  ss: 8.63%  Words/thread/sec: 298.81k  5%  Words/thread/sec: 299.09k  ds/thread/sec: 299.03k  ad/sec: 299.06k    a: 0.022516  Progress: 9.95%  Words/thread/sec: 298.76k  298.77k  ead/sec: 298.65k  Words/thread/sec: 299.47k   11.03%  Words/thread/sec: 299.29k  Progress: 11.24%  Words/thread/sec: 298.65k  .022138  Progress: 11.46%  Words/thread/sec: 299.30k  299.97k  ead/sec: 299.61k  Words/thread/sec: 300.02k   12.53%  Words/thread/sec: 299.58k  Progress: 12.75%  Words/thread/sec: 299.94k  .021760  Progress: 12.97%  Words/thread/sec: 299.73k  300.36k  ead/sec: 299.46k  Words/thread/sec: 299.74k   14.05%  Words/thread/sec: 300.35k  021382  Progress: 14.49%  Words/thread/sec: 298.62k  9.14k  d/sec: 298.96k  rds/thread/sec: 298.85k  5.56%  Words/thread/sec: 298.63k  1004  Progress: 16.00%  Words/thread/sec: 298.32k  09k  sec: 297.99k  s/thread/sec: 298.18k  08%  Words/thread/sec: 297.80k  ress: 17.29%  Words/thread/sec: 297.40k  a: 0.020570  Progress: 17.73%  Words/thread/sec: 296.86k  9k  thread/sec: 295.72k  95.99k    Progress: 19.04%  Words/thread/sec: 295.60k   0.020189  Progress: 19.26%  Words/thread/sec: 295.46k    : 295.42k   Words/thread/sec: 295.67k  : 20.41%  Words/thread/sec: 295.78k   Progress: 20.64%  Words/thread/sec: 296.18k  0.019787  Progress: 20.86%  Words/thread/sec: 295.83k    296.40k  read/sec: 295.97k   Words/thread/sec: 296.38k  : 21.94%  Words/thread/sec: 296.70k   Progress: 22.16%  Words/thread/sec: 296.49k  0.019410  Progress: 22.37%  Words/thread/sec: 296.54k  296.64k  ead/sec: 296.93k  Words/thread/sec: 297.14k   23.46%  Words/thread/sec: 296.85k  Progress: 23.67%  Words/thread/sec: 297.40k  .019030  Progress: 23.89%  Words/thread/sec: 297.77k  297.44k  ead/sec: 297.84k  Words/thread/sec: 297.31k  rogress: 25.19%  Words/thread/sec: 297.48k  018651  Progress: 25.41%  Words/thread/sec: 296.93k  d/sec: 296.92k  rds/thread/sec: 297.14k  6.49%  Words/thread/sec: 297.05k  ogress: 26.70%  Words/thread/sec: 296.96k  18273  Progress: 26.92%  Words/thread/sec: 297.25k  lpha: 0.018218  Progress: 27.14%  Words/thread/sec: 297.27k  7.39k  d/sec: 297.48k  rds/thread/sec: 297.29k  8.00%  Words/thread/sec: 297.67k  ogress: 28.22%  Words/thread/sec: 297.41k  17894  Progress: 28.44%  Words/thread/sec: 297.18k  lpha: 0.017839  Progress: 28.66%  Words/thread/sec: 296.76k  6.73k  d/sec: 296.76k  rds/thread/sec: 296.85k  gress: 29.73%  Words/thread/sec: 296.69k  ha: 0.017461  Progress: 30.17%  Words/thread/sec: 296.62k  25k  sec: 296.35k  s/thread/sec: 296.09k  03%  Words/thread/sec: 296.05k  37  Progress: 31.46%  Words/thread/sec: 295.86k  read/sec: 296.03k   Words/thread/sec: 295.80k  Progress: 32.98%  Words/thread/sec: 296.14k  .016704  Progress: 33.20%  Words/thread/sec: 296.03k  295.86k  ords/thread/sec: 295.88k  34.28%  Words/thread/sec: 295.69k  rogress: 34.49%  Words/thread/sec: 295.78k  016325  Progress: 34.71%  Words/thread/sec: 295.69k  /sec: 295.42k  ess: 36.01%  Words/thread/sec: 295.04k  47  Progress: 36.23%  Words/thread/sec: 295.09k  a: 0.015892  Progress: 36.44%  Words/thread/sec: 295.15k  2k  ec: 294.83k  /thread/sec: 294.95k  0%  Words/thread/sec: 295.08k  8  Progress: 37.74%  Words/thread/sec: 295.04k    39.05%  Words/thread/sec: 294.87k  15125  Progress: 39.51%  Words/thread/sec: 294.96k  .79k  s/thread/sec: 294.43k  ess: 40.88%  Words/thread/sec: 294.45k  : 0.014671  Progress: 41.33%  Words/thread/sec: 294.53k  k   Words/thread/sec: 294.47k  lpha: 0.014237  Progress: 43.07%  Words/thread/sec: 294.40k  4.53k  ds/thread/sec: 294.51k  .93%  Words/thread/sec: 294.73k  912  Progress: 44.37%  Words/thread/sec: 294.64k  9k  thread/sec: 294.82k  %  Words/thread/sec: 294.98k  ad/sec: 295.08k  ords/thread/sec: 295.22k  47.18%  Words/thread/sec: 294.86k  rogress: 47.39%  Words/thread/sec: 295.01k  lpha: 0.013045  Progress: 47.83%  Words/thread/sec: 294.98k  /sec: 295.13k  ds/thread/sec: 294.91k  .69%  Words/thread/sec: 295.08k  720  Progress: 49.13%  Words/thread/sec: 294.98k  36  Progress: 49.87%  Words/thread/sec: 295.09k  : 50.43%  Words/thread/sec: 295.03k   Progress: 50.65%  Words/thread/sec: 294.70k  0.012287  Progress: 50.87%  Words/thread/sec: 294.75k  294.60k  ords/thread/sec: 294.51k  ogress: 52.16%  Words/thread/sec: 294.53k  pha: 0.011855  Progress: 52.59%  Words/thread/sec: 294.59k  .67k  ss: 53.68%  Words/thread/sec: 294.74k   0.011475  Progress: 54.11%  Words/thread/sec: 294.63k   295.00k  Words/thread/sec: 294.88k    011097  Progress: 55.63%  Words/thread/sec: 294.94k  5.10k  70%  Words/thread/sec: 295.17k  : 0.010674  Progress: 57.36%  Words/thread/sec: 295.22k  : 295.23k   Words/thread/sec: 295.22k  Progress: 58.66%  Words/thread/sec: 295.38k  d/sec: 295.47k  .01%  Words/thread/sec: 295.57k  a: 0.009829  Progress: 60.70%  Words/thread/sec: 295.48k  c: 295.67k  thread/sec: 295.67k  s: 61.77%  Words/thread/sec: 295.72k    Progress: 61.99%  Words/thread/sec: 295.73k   0.009448  Progress: 62.22%  Words/thread/sec: 295.77k   295.76k  Words/thread/sec: 295.71k  rogress: 63.52%  Words/thread/sec: 295.92k  sec: 295.66k  s/thread/sec: 295.89k  82%  Words/thread/sec: 295.97k  88  Progress: 65.26%  Words/thread/sec: 295.78k  a: 0.008634  Progress: 65.48%  Words/thread/sec: 295.92k  8k  ec: 295.75k  /thread/sec: 295.94k  4%  Words/thread/sec: 295.74k  gress: 66.67%  Words/thread/sec: 295.84k   295.93k  ogress: 68.29%  Words/thread/sec: 295.88k  pha: 0.007822  Progress: 68.72%  Words/thread/sec: 295.95k  .01k  s/thread/sec: 295.85k  ess: 69.80%  Words/thread/sec: 295.95k  : 0.007443  Progress: 70.24%  Words/thread/sec: 295.99k  read/sec: 295.98k  07095  Progress: 71.75%  Words/thread/sec: 296.22k  .05k  s/thread/sec: 296.03k  ess: 73.05%  Words/thread/sec: 296.16k  : 0.006631  Progress: 73.49%  Words/thread/sec: 296.16k  : 296.23k  rogress: 74.79%  Words/thread/sec: 296.18k  lpha: 0.006207  Progress: 75.23%  Words/thread/sec: 296.34k  /sec: 296.15k  ds/thread/sec: 296.32k  ress: 76.31%  Words/thread/sec: 296.23k  a: 0.005817  Progress: 76.74%  Words/thread/sec: 296.34k  c: 296.23k    Words/thread/sec: 296.38k  d/sec: 296.54k  rds/thread/sec: 296.47k  gress: 79.60%  Words/thread/sec: 296.34k  ha: 0.004990  Progress: 80.06%  Words/thread/sec: 296.35k  ec: 296.33k  %  Words/thread/sec: 296.23k  rds/thread/sec: 296.10k  2.67%  Words/thread/sec: 296.23k  4225  Progress: 83.11%  Words/thread/sec: 295.97k  pha: 0.004170  Progress: 83.33%  Words/thread/sec: 295.96k  sec: 295.83k  0%  Words/thread/sec: 295.72k  5  Progress: 84.64%  Words/thread/sec: 295.66k   295.62k  85.95%  Words/thread/sec: 295.73k  ds/thread/sec: 295.70k  /thread/sec: 295.76k  0.002978  Progress: 88.10%  Words/thread/sec: 295.84k  ad/sec: 295.87k  gress: 89.40%  Words/thread/sec: 295.82k  6k  : 90.91%  Words/thread/sec: 295.94k  5.90k  ess: 92.64%  Words/thread/sec: 296.03k   296.04k  ogress: 94.37%  Words/thread/sec: 296.13k  ec: 296.04k   Progress: 96.10%  Words/thread/sec: 296.24k  96.32k  .40%  Words/thread/sec: 296.24k  k   99.17%  Words/thread/sec: 296.37k  "
     ]
    }
   ],
   "source": [
    "# Actually train the model\n",
    "word2vec.word2vec('text8_phrases', 'text8_pharases.bin', size=100, verbose=True)"
   ]
  },
  {
   "cell_type": "markdown",
   "metadata": {},
   "source": [
    "# "
   ]
  },
  {
   "cell_type": "code",
   "execution_count": null,
   "metadata": {},
   "outputs": [
    {
     "name": "stdout",
     "output_type": "stream",
     "text": [
      "Starting training using file text8_phrases\n",
      "Vocab size: 98331\n",
      "Words in train file: 15857306\n",
      "Alpha: 0.019153  Progress: 23.40%  Words/thread/sec: 295.98k  thread/sec: 287.13k  /sec: 295.47k  85.33k   : 0.024511  Progress: 1.97%  Words/thread/sec: 294.65k  456  Progress: 2.19%  Words/thread/sec: 292.96k  ogress: 2.41%  Words/thread/sec: 296.15k   2.63%  Words/thread/sec: 291.31k   Words/thread/sec: 292.50k  thread/sec: 296.81k  sec: 296.85k  5.86k   0.024015  Progress: 3.95%  Words/thread/sec: 296.69k  ress: 4.39%  Words/thread/sec: 295.74k  .61%  Words/thread/sec: 291.77k  ords/thread/sec: 293.21k  read/sec: 293.67k  c: 291.54k  04k  lpha: 0.023575  Progress: 5.71%  Words/thread/sec: 293.38k  .023520  Progress: 5.93%  Words/thread/sec: 293.07k    Progress: 6.15%  Words/thread/sec: 293.37k  9%  Words/thread/sec: 293.11k  ds/thread/sec: 293.72k  ad/sec: 294.12k   293.23k  k  ha: 0.023079  Progress: 7.70%  Words/thread/sec: 292.46k  23025  Progress: 7.91%  Words/thread/sec: 292.09k  Progress: 8.13%  Words/thread/sec: 291.63k  s: 8.35%  Words/thread/sec: 290.26k  %  Words/thread/sec: 289.93k  s/thread/sec: 290.84k  90.40k   30  Progress: 9.89%  Words/thread/sec: 290.98k  a: 0.022421  Progress: 10.33%  Words/thread/sec: 290.96k  3k  ec: 292.05k  /thread/sec: 292.27k  9%  Words/thread/sec: 290.64k  ess: 11.41%  Words/thread/sec: 291.18k  : 0.022043  Progress: 11.84%  Words/thread/sec: 290.51k  k  c: 291.70k  thread/sec: 290.96k  %  Words/thread/sec: 291.66k  ss: 12.92%  Words/thread/sec: 291.11k  9  Progress: 13.14%  Words/thread/sec: 291.71k  : 0.021665  Progress: 13.35%  Words/thread/sec: 292.35k  : 292.08k  hread/sec: 292.76k    Words/thread/sec: 292.46k   Progress: 14.65%  Words/thread/sec: 293.29k  0.021286  Progress: 14.87%  Words/thread/sec: 293.16k    293.24k  read/sec: 293.28k   Words/thread/sec: 293.74k  Progress: 16.16%  Words/thread/sec: 293.20k  93.69k  ad/sec: 293.78k  ords/thread/sec: 294.36k  17.46%  Words/thread/sec: 293.93k  rogress: 17.68%  Words/thread/sec: 293.71k  020529  Progress: 17.90%  Words/thread/sec: 294.15k  93.95k  ad/sec: 294.29k  8.98%  Words/thread/sec: 293.88k  ogress: 19.20%  Words/thread/sec: 294.51k  20150  Progress: 19.42%  Words/thread/sec: 294.26k  lpha: 0.020091  Progress: 19.65%  Words/thread/sec: 294.58k  4.54k  d/sec: 294.63k  rds/thread/sec: 294.96k  0.59%  Words/thread/sec: 294.94k  ogress: 20.81%  Words/thread/sec: 295.17k  19746  Progress: 21.03%  Words/thread/sec: 295.20k  lpha: 0.019693  Progress: 21.24%  Words/thread/sec: 295.05k  /sec: 295.69k  ds/thread/sec: 295.67k  ress: 22.32%  Words/thread/sec: 295.57k  369  Progress: 22.54%  Words/thread/sec: 295.71k  ha: 0.019314  Progress: 22.76%  Words/thread/sec: 295.48k  77k  sec: 295.99k  "
     ]
    }
   ],
   "source": [
    "# Make word clusters\n",
    "word2vec.word2clusters('text8_phrases', 'text8_phrases_cluster.txt', 100, verbose=True)"
   ]
  },
  {
   "cell_type": "code",
   "execution_count": 10,
   "metadata": {},
   "outputs": [
    {
     "data": {
      "text/plain": [
       "array(['</s>', '飯店', '前往', 'E7', '博多', '自由', '行動', '車廂', '新幹線', '搭', '吃',\n",
       "       '行李', '出發', '車站', '福岡', 'Gran', '系', '人', '好', '綠色'], dtype='<U78')"
      ]
     },
     "execution_count": 10,
     "metadata": {},
     "output_type": "execute_result"
    }
   ],
   "source": [
    "model = word2vec.load('text8_phrases.bin')\n",
    "model.vocab # the numpy array"
   ]
  },
  {
   "cell_type": "code",
   "execution_count": 11,
   "metadata": {},
   "outputs": [
    {
     "data": {
      "text/plain": [
       "array([-0.09238216,  0.05425113,  0.02611992,  0.05525827,  0.07182234,\n",
       "        0.00539621,  0.0161201 , -0.08885124, -0.02008308,  0.06276111])"
      ]
     },
     "execution_count": 11,
     "metadata": {},
     "output_type": "execute_result"
    }
   ],
   "source": [
    "model['飯店'][:10]"
   ]
  },
  {
   "cell_type": "code",
   "execution_count": 13,
   "metadata": {},
   "outputs": [
    {
     "data": {
      "text/plain": [
       "[('飯店', '博多', 0.042856408228509016)]"
      ]
     },
     "execution_count": 13,
     "metadata": {},
     "output_type": "execute_result"
    }
   ],
   "source": [
    "model.distance(\"飯店\", \"博多\")"
   ]
  },
  {
   "cell_type": "code",
   "execution_count": null,
   "metadata": {},
   "outputs": [],
   "source": []
  }
 ],
 "metadata": {
  "kernelspec": {
   "display_name": "Python 3",
   "language": "python",
   "name": "python3"
  },
  "language_info": {
   "codemirror_mode": {
    "name": "ipython",
    "version": 3
   },
   "file_extension": ".py",
   "mimetype": "text/x-python",
   "name": "python",
   "nbconvert_exporter": "python",
   "pygments_lexer": "ipython3",
   "version": "3.7.2"
  }
 },
 "nbformat": 4,
 "nbformat_minor": 2
}
