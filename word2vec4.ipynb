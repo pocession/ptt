{
 "cells": [
  {
   "cell_type": "code",
   "execution_count": 1,
   "metadata": {},
   "outputs": [
    {
     "name": "stdout",
     "output_type": "stream",
     "text": [
      "Starting training using file processed_corpus.txt\n",
      "\n",
      "Vocab size (unigrams + bigrams): 32209\n",
      "Words in train file: 77897\n"
     ]
    }
   ],
   "source": [
    "import word2vec\n",
    "word2vec.word2phrase('processed_corpus.txt', 'processed_corpus.txt_phrases.txt', verbose=True)"
   ]
  },
  {
   "cell_type": "code",
   "execution_count": 2,
   "metadata": {},
   "outputs": [
    {
     "name": "stdout",
     "output_type": "stream",
     "text": [
      "Starting training using file processed_corpus.txt_phrases.txt\n",
      "Vocab size: 2449\n",
      "Words in train file: 147087\n",
      "Alpha: 0.000682  Progress: 99.52%  Words/thread/sec: 985.49k  61%  Words/thread/sec: 901.02k  "
     ]
    }
   ],
   "source": [
    "# Actually train the model\n",
    "word2vec.word2vec('processed_corpus.txt_phrases.txt', 'processed_corpus.txt_phrases.bin', size=200, verbose=True)"
   ]
  },
  {
   "cell_type": "markdown",
   "metadata": {},
   "source": [
    "# "
   ]
  },
  {
   "cell_type": "code",
   "execution_count": 3,
   "metadata": {},
   "outputs": [
    {
     "name": "stdout",
     "output_type": "stream",
     "text": [
      "Starting training using file processed_corpus.txt_phrases.txt\n",
      "Vocab size: 2449\n",
      "Words in train file: 147087\n",
      "Alpha: 0.000615  Progress: 98.90%  Words/thread/sec: 985.11k  pha: 0.006746  Progress: 75.60%  Words/thread/sec: 952.33k  "
     ]
    }
   ],
   "source": [
    "# Make word clusters\n",
    "word2vec.word2clusters('processed_corpus.txt_phrases.txt', 'processed_corpus.txt_phrases_cluster.txt', 200, verbose=True)"
   ]
  },
  {
   "cell_type": "code",
   "execution_count": 6,
   "metadata": {},
   "outputs": [
    {
     "data": {
      "text/plain": [
       "array(['</s>', '沖繩', '人', ..., '紀念品店', '會給', '古代'], dtype='<U78')"
      ]
     },
     "execution_count": 6,
     "metadata": {},
     "output_type": "execute_result"
    }
   ],
   "source": [
    "model = word2vec.load('processed_corpus.txt_phrases.bin')\n",
    "model.vocab # the numpy array"
   ]
  },
  {
   "cell_type": "code",
   "execution_count": 7,
   "metadata": {},
   "outputs": [
    {
     "data": {
      "text/plain": [
       "array([-0.10678505, -0.0785195 ,  0.0839477 ,  0.02421554, -0.05690597,\n",
       "       -0.0383428 ,  0.06008865, -0.08508331, -0.05571522,  0.11402877])"
      ]
     },
     "execution_count": 7,
     "metadata": {},
     "output_type": "execute_result"
    }
   ],
   "source": [
    "model['沖繩'][:10]"
   ]
  },
  {
   "cell_type": "code",
   "execution_count": 8,
   "metadata": {},
   "outputs": [
    {
     "data": {
      "text/plain": [
       "[('沖繩', '潛水', -0.057864482332644976),\n",
       " ('沖繩', '拉麵', 0.08893714307194141),\n",
       " ('沖繩', '樂桃', -0.08475903932545055),\n",
       " ('潛水', '拉麵', -0.059901027756377685),\n",
       " ('潛水', '樂桃', 0.05949208370481732),\n",
       " ('拉麵', '樂桃', 0.049583872268674)]"
      ]
     },
     "execution_count": 8,
     "metadata": {},
     "output_type": "execute_result"
    }
   ],
   "source": [
    "model.distance(\"沖繩\", \"潛水\", \"拉麵\", \"樂桃\")"
   ]
  },
  {
   "cell_type": "code",
   "execution_count": 10,
   "metadata": {},
   "outputs": [
    {
     "data": {
      "text/plain": [
       "(array([ 486, 1639,  746, 1970,   65, 2314,  985, 2155, 1387, 1234]),\n",
       " array([0.23940034, 0.20631132, 0.20313511, 0.19391768, 0.1917904 ,\n",
       "        0.19169094, 0.18655472, 0.18293922, 0.18259591, 0.18168525]))"
      ]
     },
     "execution_count": 10,
     "metadata": {},
     "output_type": "execute_result"
    }
   ],
   "source": [
    "# Check what words are similar with the given query\n",
    "indexes, metrics = model.similar(\"沖繩\")\n",
    "indexes, metrics"
   ]
  },
  {
   "cell_type": "code",
   "execution_count": 11,
   "metadata": {},
   "outputs": [
    {
     "data": {
      "text/plain": [
       "array(['珊瑚礁', '為主', 'カ', '樓下', '停車場', '水質', '旭橋', '大街', '菓子', '旺季'],\n",
       "      dtype='<U78')"
      ]
     },
     "execution_count": 11,
     "metadata": {},
     "output_type": "execute_result"
    }
   ],
   "source": [
    "model.vocab[indexes]"
   ]
  },
  {
   "cell_type": "code",
   "execution_count": null,
   "metadata": {},
   "outputs": [],
   "source": []
  }
 ],
 "metadata": {
  "kernelspec": {
   "display_name": "Python 3",
   "language": "python",
   "name": "python3"
  },
  "language_info": {
   "codemirror_mode": {
    "name": "ipython",
    "version": 3
   },
   "file_extension": ".py",
   "mimetype": "text/x-python",
   "name": "python",
   "nbconvert_exporter": "python",
   "pygments_lexer": "ipython3",
   "version": "3.7.2"
  }
 },
 "nbformat": 4,
 "nbformat_minor": 2
}
