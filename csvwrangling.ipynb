{
 "cells": [
  {
   "cell_type": "code",
   "execution_count": 1,
   "metadata": {},
   "outputs": [
    {
     "name": "stdout",
     "output_type": "stream",
     "text": [
      "Total elements in list are:  45\n",
      "M.1552801437.A.AD1.html\n",
      "\n",
      "M.1552803739.A.222.html\n",
      "M.1552804767.A.C17.html\n",
      "M.1552804826.A.06D.html\n",
      "M.1552805414.A.DCA.html\n",
      "M.1552805772.A.A96.html\n",
      "M.1552806855.A.929.html\n",
      "M.1552807474.A.00C.html\n",
      "M.1552807827.A.8EB.html\n",
      "M.1552810834.A.517.html\n",
      "M.1552811159.A.A28.html\n",
      "\n",
      "M.1552812731.A.DBD.html\n",
      "M.1552813837.A.E40.html\n",
      "M.1552814789.A.DE2.html\n",
      "M.1552814823.A.78E.html\n",
      "M.1552815745.A.B6D.html\n",
      "M.1552815807.A.26C.html\n",
      "M.1552816199.A.ED0.html\n",
      "M.1528480874.A.9E2.html\n",
      "M.1551876754.A.4DF.html\n",
      "M.1552102313.A.B68.html\n",
      "M.1552474136.A.983.html\n",
      "M.1552368367.A.835.html\n",
      "M.1552783162.A.072.html\n",
      "\n",
      "M.1552787746.A.E4E.html\n",
      "M.1552788324.A.1D7.html\n",
      "M.1552788466.A.D9D.html\n",
      "M.1552788651.A.CA1.html\n",
      "M.1552791099.A.0DB.html\n",
      "M.1552791579.A.86D.html\n",
      "M.1552793462.A.F01.html\n",
      "M.1552793489.A.827.html\n",
      "M.1552794954.A.A31.html\n",
      "M.1552797007.A.E03.html\n",
      "M.1552798070.A.956.html\n",
      "M.1552799481.A.05D.html\n",
      "M.1552800083.A.B43.html\n",
      "M.1552800193.A.921.html\n",
      "M.1552800210.A.370.html\n",
      "M.1552800663.A.39A.html\n",
      "M.1552801083.A.8AD.html\n",
      "M.1552801317.A.8D4.html\n",
      "We got 45 elements\n"
     ]
    }
   ],
   "source": [
    "# Remove unwanted characters or symbols from CSV file\n",
    "\n",
    "import csv\n",
    "\n",
    "csvfile = open('Japan_Travel.csv','r')\n",
    "rowreader = csv.reader(csvfile,delimiter=',')\n",
    "article_list = []\n",
    "for row in rowreader:\n",
    "    article_list.append(row)\n",
    "csvfile.close()\n",
    "print(\"Total elements in list are: \",len(article_list) - 1)\n",
    "i = 1\n",
    "while i < len(article_list):\n",
    "    element = article_list[i][2].replace(\"[\",\"\").replace(\"]\",\"\").replace(\"'\",\"\")\n",
    "    article_list[i][2] = element\n",
    "    i+=1\n",
    "print(\"We got {a} elements\".format(a=i-1))\n",
    "csvfile2 = open('Japan_Travel_clean.csv','w')\n",
    "rowwriter = csv.writer(csvfile2,delimiter=',')\n",
    "for element in article_list:\n",
    "    rowwriter.writerow(element)\n",
    "csvfile2.close()"
   ]
  },
  {
   "cell_type": "code",
   "execution_count": null,
   "metadata": {},
   "outputs": [],
   "source": []
  }
 ],
 "metadata": {
  "kernelspec": {
   "display_name": "Python 3",
   "language": "python",
   "name": "python3"
  },
  "language_info": {
   "codemirror_mode": {
    "name": "ipython",
    "version": 3
   },
   "file_extension": ".py",
   "mimetype": "text/x-python",
   "name": "python",
   "nbconvert_exporter": "python",
   "pygments_lexer": "ipython3",
   "version": "3.7.2"
  }
 },
 "nbformat": 4,
 "nbformat_minor": 2
}
