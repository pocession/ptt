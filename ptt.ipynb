{
 "cells": [
  {
   "cell_type": "code",
   "execution_count": 1,
   "metadata": {},
   "outputs": [
    {
     "name": "stdout",
     "output_type": "stream",
     "text": [
      "Enter which sub forum you want to scrape data from: Japan_Travel\n"
     ]
    }
   ],
   "source": [
    "# Some practice for scraping ptt\n",
    "\n",
    "import requests\n",
    "from bs4 import BeautifulSoup\n",
    "\n",
    "name = input(\"Enter which sub forum you want to scrape data from: \")\n",
    "\n",
    "url = \"https://www.ptt.cc/bbs/\"+name+\"/index.html\"\n",
    "response = requests.get(url, cookies={'over18': '1'}) \n",
    "result = response.text\n",
    "soup = BeautifulSoup(result, 'html.parser')\n",
    "\n",
    "# Get all links\n",
    "\n",
    "all_a = soup.find_all('a')"
   ]
  },
  {
   "cell_type": "code",
   "execution_count": 2,
   "metadata": {},
   "outputs": [
    {
     "data": {
      "text/plain": [
       "6517"
      ]
     },
     "execution_count": 2,
     "metadata": {},
     "output_type": "execute_result"
    }
   ],
   "source": [
    "# Check how many articles\n",
    "\n",
    "page_number_a = soup.find_all('a',attrs={'class':'btn wide'})\n",
    "page_number_a = page_number_a[1]['href']\n",
    "page_number = page_number_a\n",
    "page_number = int(page_number.replace(\"/bbs/Japan_Travel/index\",\"\").replace(\".html\",\"\"))\n",
    "page_number"
   ]
  },
  {
   "cell_type": "code",
   "execution_count": 3,
   "metadata": {},
   "outputs": [
    {
     "name": "stdout",
     "output_type": "stream",
     "text": [
      "Total review counts:  25\n",
      "Total article number: 25\n",
      "2 [贈送]都營一日乘車券(洽中)\n",
      "0 [讓售]3/212019MLB東京開幕賽運動家VS水手\n",
      "5 [問題]中部北陸11天行程請教\n",
      "0 [食記]金澤昌德園：在地人氣家庭式燒肉老店\n",
      "0 [讓售]KTP關西周遊券(剩一日)\n",
      "2 [問題]豪斯登堡現在還有散步卷嗎?\n",
      "0 [徵人][湊票]03/27-28沖繩kkday單車4h體驗\n",
      "2 [問題]5月初北海道11日行程請益\n",
      "3 [問題]環球灣住宿+交通問題\n",
      "1 [資訊]華航送瀨戶內國際藝術祭護照\n",
      "3 Re:[問題]四國七天六夜行程請益(岡山進出)\n",
      "1 [問題]東京五天四夜第一次自助行程請益\n",
      "1 [讓售]大阪周遊二日券*4張\n",
      "0 [讓售]關西鐵路周遊券一日券\n",
      "0 [讓售]池袋、高田馬場、西武新宿-川越來回2張\n",
      "2 [問題]Agoda延後付款的金額顯示美金\n",
      "0 [食記]奧淺草鮓かね庄高CP值江戶前壽司午餐\n",
      "0 [問題]鹿兒島/宮崎賞櫻行程請益3/31～4/6\n",
      "0 [問題]關西行程請益(京都-奈良-大阪)\n",
      "0 [徵人]05/14-05/22福岡\n",
      "54 [公告]日本旅遊板板規107.06\n",
      "99 [公告]108.2實況回報(含天氣/物候/穿著詢問)\n",
      "20 [資訊]樂桃七周年促銷(日本發777日幣)\n",
      "13 [資訊]捷星台灣發促銷(已開始)\n",
      "99 [資訊]香草促銷今晚11點起KIX/OKA220~\n"
     ]
    }
   ],
   "source": [
    "# Get review counts + title\n",
    "article_review = soup.find_all('div',attrs={'class':'nrec'})\n",
    "article_title = soup.find_all('div', attrs={'class':'title'})\n",
    "print(\"Total review counts: \",len(article_review))\n",
    "print(\"Total article number:\",len(article_title))\n",
    "i = 0\n",
    "j = 0\n",
    "while i < len(article_review) and j < len(article_title):\n",
    "    x = article_review[i].text\n",
    "    if x == '':\n",
    "        x = x.replace('','0')\n",
    "    if x == '爆':\n",
    "        x = '99'\n",
    "    x = int(x)\n",
    "    y = article_title[j]\n",
    "    print(x,y.text.replace(\"\\n\",\"\").replace(\" \",\"\").replace(\"\\t\",\"\"))\n",
    "    i+=1\n",
    "    j+=1"
   ]
  },
  {
   "cell_type": "code",
   "execution_count": 17,
   "metadata": {},
   "outputs": [
    {
     "name": "stdout",
     "output_type": "stream",
     "text": [
      "[贈送] 都營一日乘車券(洽中) https://www.ptt.cc/bbs/Japan_Travel/M.1551589155.A.83C.html\n",
      "[讓售] 3/21 2019MLB東京開幕賽 運動家VS水手 https://www.ptt.cc/bbs/Japan_Travel/M.1551591174.A.226.html\n",
      "[問題] 中部北陸11天行程請教 https://www.ptt.cc/bbs/Japan_Travel/M.1551592280.A.55C.html\n",
      "[食記] 金澤 昌德園：在地人氣家庭式燒肉老店 https://www.ptt.cc/bbs/Japan_Travel/M.1551592485.A.1AD.html\n",
      "[讓售] KTP 關西周遊券 (剩一日) https://www.ptt.cc/bbs/Japan_Travel/M.1551593528.A.E90.html\n",
      "[問題] 豪斯登堡現在還有散步卷嗎? https://www.ptt.cc/bbs/Japan_Travel/M.1551593567.A.805.html\n",
      "[徵人] [湊票] 03/27-28沖繩 kkday單車4h體驗 https://www.ptt.cc/bbs/Japan_Travel/M.1551595001.A.7EE.html\n",
      "[問題] 5月初北海道11日行程請益 https://www.ptt.cc/bbs/Japan_Travel/M.1551596280.A.6A8.html\n",
      "[問題] 環球灣住宿+交通問題 https://www.ptt.cc/bbs/Japan_Travel/M.1551596481.A.BF4.html\n",
      "[資訊] 華航送瀨戶內國際藝術祭護照 https://www.ptt.cc/bbs/Japan_Travel/M.1551596485.A.8B3.html\n",
      "Re: [問題] 四國七天六夜行程請益(岡山進出) https://www.ptt.cc/bbs/Japan_Travel/M.1551596939.A.F05.html\n",
      "[問題] 東京五天四夜 第一次自助 行程請益 https://www.ptt.cc/bbs/Japan_Travel/M.1551598096.A.CEC.html\n",
      "[讓售] 大阪周遊二日券*4張 https://www.ptt.cc/bbs/Japan_Travel/M.1551598407.A.068.html\n",
      "[讓售] 關西鐵路周遊券一日券 https://www.ptt.cc/bbs/Japan_Travel/M.1551601616.A.78A.html\n",
      "[讓售] 池袋、高田馬場、西武新宿-川越 來回2張 https://www.ptt.cc/bbs/Japan_Travel/M.1551601693.A.0DC.html\n",
      "[問題] Agoda 延後付款的金額顯示美金 https://www.ptt.cc/bbs/Japan_Travel/M.1551601931.A.B2D.html\n",
      "[食記] 奧淺草 鮓 かね庄 高CP值江戶前壽司午餐 https://www.ptt.cc/bbs/Japan_Travel/M.1551601942.A.A1B.html\n",
      "[問題] 鹿兒島/宮崎 賞櫻行程請益 3/31～4/6 https://www.ptt.cc/bbs/Japan_Travel/M.1551603971.A.FE1.html\n",
      "[問題] 關西行程請益 (京都-奈良-大阪) https://www.ptt.cc/bbs/Japan_Travel/M.1551604169.A.763.html\n",
      "[徵人] 05/14-05/22 福岡 https://www.ptt.cc/bbs/Japan_Travel/M.1551604801.A.AF9.html\n",
      "[公告] 日本旅遊板板規 107.06 https://www.ptt.cc/bbs/Japan_Travel/M.1528480874.A.9E2.html\n",
      "[公告] 108.2 實況回報(含天氣/物候/穿著詢問)   https://www.ptt.cc/bbs/Japan_Travel/M.1548977781.A.9DE.html\n",
      "[資訊] 樂桃七周年促銷 (日本發 777日幣) https://www.ptt.cc/bbs/Japan_Travel/M.1551346129.A.804.html\n",
      "[資訊] 捷星台灣發促銷 (已開始) https://www.ptt.cc/bbs/Japan_Travel/M.1551407363.A.405.html\n",
      "[資訊] 香草促銷 今晚11點起 KIX/OKA 220~ https://www.ptt.cc/bbs/Japan_Travel/M.1551413846.A.053.html\n"
     ]
    }
   ],
   "source": [
    "# Get url of each article\n",
    "soup\n",
    "article = soup.find_all('a',attrs={'class':''})\n",
    "k = 1\n",
    "while k < len(article) :\n",
    "    x = article[k].text\n",
    "    y = \"https://www.ptt.cc\"+article[k]['href']\n",
    "    print(x,y)\n",
    "    k += 3"
   ]
  },
  {
   "cell_type": "code",
   "execution_count": 10,
   "metadata": {},
   "outputs": [
    {
     "data": {
      "text/plain": [
       "[<a href=\"/bbs/\" id=\"logo\">批踢踢實業坊</a>,\n",
       " <a href=\"/bbs/Japan_Travel/M.1551589155.A.83C.html\">[贈送] 都營一日乘車券(洽中)</a>,\n",
       " <a href=\"/bbs/Japan_Travel/search?q=thread%3A%5B%E8%B4%88%E9%80%81%5D+%E9%83%BD%E7%87%9F%E4%B8%80%E6%97%A5%E4%B9%98%E8%BB%8A%E5%88%B8%28%E6%B4%BD%E4%B8%AD%29\">搜尋同標題文章</a>,\n",
       " <a href=\"/bbs/Japan_Travel/search?q=author%3ABabyMou\">搜尋看板內 BabyMou 的文章</a>,\n",
       " <a href=\"/bbs/Japan_Travel/M.1551591174.A.226.html\">[讓售] 3/21 2019MLB東京開幕賽 運動家VS水手</a>,\n",
       " <a href=\"/bbs/Japan_Travel/search?q=thread%3A%5B%E8%AE%93%E5%94%AE%5D+3%2F21+2019MLB%E6%9D%B1%E4%BA%AC%E9%96%8B%E5%B9%95%E8%B3%BD+%E9%81%8B%E5%8B%95%E5%AE%B6VS%E6%B0%B4%E6%89%8B\">搜尋同標題文章</a>,\n",
       " <a href=\"/bbs/Japan_Travel/search?q=author%3Ajz\">搜尋看板內 jz 的文章</a>,\n",
       " <a href=\"/bbs/Japan_Travel/M.1551592280.A.55C.html\">[問題] 中部北陸11天行程請教</a>,\n",
       " <a href=\"/bbs/Japan_Travel/search?q=thread%3A%5B%E5%95%8F%E9%A1%8C%5D+%E4%B8%AD%E9%83%A8%E5%8C%97%E9%99%B811%E5%A4%A9%E8%A1%8C%E7%A8%8B%E8%AB%8B%E6%95%99\">搜尋同標題文章</a>,\n",
       " <a href=\"/bbs/Japan_Travel/search?q=author%3AwithAssamTea\">搜尋看板內 withAssamTea 的文章</a>,\n",
       " <a href=\"/bbs/Japan_Travel/M.1551592485.A.1AD.html\">[食記] 金澤 昌德園：在地人氣家庭式燒肉老店</a>,\n",
       " <a href=\"/bbs/Japan_Travel/search?q=thread%3A%5B%E9%A3%9F%E8%A8%98%5D+%E9%87%91%E6%BE%A4+%E6%98%8C%E5%BE%B7%E5%9C%92%EF%BC%9A%E5%9C%A8%E5%9C%B0%E4%BA%BA%E6%B0%A3%E5%AE%B6%E5%BA%AD%E5%BC%8F%E7%87%92%E8%82%89%E8%80%81%E5%BA%97\">搜尋同標題文章</a>,\n",
       " <a href=\"/bbs/Japan_Travel/search?q=author%3Alaogeng\">搜尋看板內 laogeng 的文章</a>,\n",
       " <a href=\"/bbs/Japan_Travel/M.1551593528.A.E90.html\">[讓售] KTP 關西周遊券 (剩一日)</a>,\n",
       " <a href=\"/bbs/Japan_Travel/search?q=thread%3A%5B%E8%AE%93%E5%94%AE%5D+KTP+%E9%97%9C%E8%A5%BF%E5%91%A8%E9%81%8A%E5%88%B8+%28%E5%89%A9%E4%B8%80%E6%97%A5%29\">搜尋同標題文章</a>,\n",
       " <a href=\"/bbs/Japan_Travel/search?q=author%3Arichardchiu\">搜尋看板內 richardchiu 的文章</a>,\n",
       " <a href=\"/bbs/Japan_Travel/M.1551593567.A.805.html\">[問題] 豪斯登堡現在還有散步卷嗎?</a>,\n",
       " <a href=\"/bbs/Japan_Travel/search?q=thread%3A%5B%E5%95%8F%E9%A1%8C%5D+%E8%B1%AA%E6%96%AF%E7%99%BB%E5%A0%A1%E7%8F%BE%E5%9C%A8%E9%82%84%E6%9C%89%E6%95%A3%E6%AD%A5%E5%8D%B7%E5%97%8E%3F\">搜尋同標題文章</a>,\n",
       " <a href=\"/bbs/Japan_Travel/search?q=author%3ACouples\">搜尋看板內 Couples 的文章</a>,\n",
       " <a href=\"/bbs/Japan_Travel/M.1551595001.A.7EE.html\">[徵人] [湊票] 03/27-28沖繩 kkday單車4h體驗</a>,\n",
       " <a href=\"/bbs/Japan_Travel/search?q=thread%3A%5B%E5%BE%B5%E4%BA%BA%5D+%5B%E6%B9%8A%E7%A5%A8%5D+03%2F27-28%E6%B2%96%E7%B9%A9+kkday%E5%96%AE%E8%BB%8A4h%E9%AB%94%E9%A9%97\">搜尋同標題文章</a>,\n",
       " <a href=\"/bbs/Japan_Travel/search?q=author%3Ashortgirl\">搜尋看板內 shortgirl 的文章</a>,\n",
       " <a href=\"/bbs/Japan_Travel/M.1551596280.A.6A8.html\">[問題] 5月初北海道11日行程請益</a>,\n",
       " <a href=\"/bbs/Japan_Travel/search?q=thread%3A%5B%E5%95%8F%E9%A1%8C%5D+5%E6%9C%88%E5%88%9D%E5%8C%97%E6%B5%B7%E9%81%9311%E6%97%A5%E8%A1%8C%E7%A8%8B%E8%AB%8B%E7%9B%8A\">搜尋同標題文章</a>,\n",
       " <a href=\"/bbs/Japan_Travel/search?q=author%3Ajibrua\">搜尋看板內 jibrua 的文章</a>,\n",
       " <a href=\"/bbs/Japan_Travel/M.1551596481.A.BF4.html\">[問題] 環球灣住宿+交通問題</a>,\n",
       " <a href=\"/bbs/Japan_Travel/search?q=thread%3A%5B%E5%95%8F%E9%A1%8C%5D+%E7%92%B0%E7%90%83%E7%81%A3%E4%BD%8F%E5%AE%BF%2B%E4%BA%A4%E9%80%9A%E5%95%8F%E9%A1%8C\">搜尋同標題文章</a>,\n",
       " <a href=\"/bbs/Japan_Travel/search?q=author%3Atommyhaha\">搜尋看板內 tommyhaha 的文章</a>,\n",
       " <a href=\"/bbs/Japan_Travel/M.1551596485.A.8B3.html\">[資訊] 華航送瀨戶內國際藝術祭護照</a>,\n",
       " <a href=\"/bbs/Japan_Travel/search?q=thread%3A%5B%E8%B3%87%E8%A8%8A%5D+%E8%8F%AF%E8%88%AA%E9%80%81%E7%80%A8%E6%88%B6%E5%85%A7%E5%9C%8B%E9%9A%9B%E8%97%9D%E8%A1%93%E7%A5%AD%E8%AD%B7%E7%85%A7\">搜尋同標題文章</a>,\n",
       " <a href=\"/bbs/Japan_Travel/search?q=author%3Amagepopo\">搜尋看板內 magepopo 的文章</a>,\n",
       " <a href=\"/bbs/Japan_Travel/M.1551596939.A.F05.html\">Re: [問題] 四國七天六夜行程請益(岡山進出)</a>,\n",
       " <a href=\"/bbs/Japan_Travel/search?q=thread%3A%5B%E5%95%8F%E9%A1%8C%5D+%E5%9B%9B%E5%9C%8B%E4%B8%83%E5%A4%A9%E5%85%AD%E5%A4%9C%E8%A1%8C%E7%A8%8B%E8%AB%8B%E7%9B%8A%28%E5%B2%A1%E5%B1%B1%E9%80%B2%E5%87%BA%29\">搜尋同標題文章</a>,\n",
       " <a href=\"/bbs/Japan_Travel/search?q=author%3Akintboos\">搜尋看板內 kintboos 的文章</a>,\n",
       " <a href=\"/bbs/Japan_Travel/M.1551598096.A.CEC.html\">[問題] 東京五天四夜 第一次自助 行程請益</a>,\n",
       " <a href=\"/bbs/Japan_Travel/search?q=thread%3A%5B%E5%95%8F%E9%A1%8C%5D+%E6%9D%B1%E4%BA%AC%E4%BA%94%E5%A4%A9%E5%9B%9B%E5%A4%9C+%E7%AC%AC%E4%B8%80%E6%AC%A1%E8%87%AA%E5%8A%A9+%E8%A1%8C%E7%A8%8B%E8%AB%8B%E7%9B%8A\">搜尋同標題文章</a>,\n",
       " <a href=\"/bbs/Japan_Travel/search?q=author%3Awork4mark\">搜尋看板內 work4mark 的文章</a>,\n",
       " <a href=\"/bbs/Japan_Travel/M.1551598407.A.068.html\">[讓售] 大阪周遊二日券*4張</a>,\n",
       " <a href=\"/bbs/Japan_Travel/search?q=thread%3A%5B%E8%AE%93%E5%94%AE%5D+%E5%A4%A7%E9%98%AA%E5%91%A8%E9%81%8A%E4%BA%8C%E6%97%A5%E5%88%B8%2A4%E5%BC%B5\">搜尋同標題文章</a>,\n",
       " <a href=\"/bbs/Japan_Travel/search?q=author%3Aasos53\">搜尋看板內 asos53 的文章</a>,\n",
       " <a href=\"/bbs/Japan_Travel/M.1551601616.A.78A.html\">[讓售] 關西鐵路周遊券一日券</a>,\n",
       " <a href=\"/bbs/Japan_Travel/search?q=thread%3A%5B%E8%AE%93%E5%94%AE%5D+%E9%97%9C%E8%A5%BF%E9%90%B5%E8%B7%AF%E5%91%A8%E9%81%8A%E5%88%B8%E4%B8%80%E6%97%A5%E5%88%B8\">搜尋同標題文章</a>,\n",
       " <a href=\"/bbs/Japan_Travel/search?q=author%3Aminniesmile\">搜尋看板內 minniesmile 的文章</a>,\n",
       " <a href=\"/bbs/Japan_Travel/M.1551601693.A.0DC.html\">[讓售] 池袋、高田馬場、西武新宿-川越 來回2張</a>,\n",
       " <a href=\"/bbs/Japan_Travel/search?q=thread%3A%5B%E8%AE%93%E5%94%AE%5D+%E6%B1%A0%E8%A2%8B%E3%80%81%E9%AB%98%E7%94%B0%E9%A6%AC%E5%A0%B4%E3%80%81%E8%A5%BF%E6%AD%A6%E6%96%B0%E5%AE%BF-%E5%B7%9D%E8%B6%8A+%E4%BE%86%E5%9B%9E2%E5%BC%B5\">搜尋同標題文章</a>,\n",
       " <a href=\"/bbs/Japan_Travel/search?q=author%3Adearboy\">搜尋看板內 dearboy 的文章</a>,\n",
       " <a href=\"/bbs/Japan_Travel/M.1551601931.A.B2D.html\">[問題] Agoda 延後付款的金額顯示美金</a>,\n",
       " <a href=\"/bbs/Japan_Travel/search?q=thread%3A%5B%E5%95%8F%E9%A1%8C%5D+Agoda+%E5%BB%B6%E5%BE%8C%E4%BB%98%E6%AC%BE%E7%9A%84%E9%87%91%E9%A1%8D%E9%A1%AF%E7%A4%BA%E7%BE%8E%E9%87%91\">搜尋同標題文章</a>,\n",
       " <a href=\"/bbs/Japan_Travel/search?q=author%3Atsukine\">搜尋看板內 tsukine 的文章</a>,\n",
       " <a href=\"/bbs/Japan_Travel/M.1551601942.A.A1B.html\">[食記] 奧淺草 鮓 かね庄 高CP值江戶前壽司午餐</a>,\n",
       " <a href=\"/bbs/Japan_Travel/search?q=thread%3A%5B%E9%A3%9F%E8%A8%98%5D+%E5%A5%A7%E6%B7%BA%E8%8D%89+%E9%AE%93+%E3%81%8B%E3%81%AD%E5%BA%84+%E9%AB%98CP%E5%80%BC%E6%B1%9F%E6%88%B6%E5%89%8D%E5%A3%BD%E5%8F%B8%E5%8D%88%E9%A4%90\">搜尋同標題文章</a>,\n",
       " <a href=\"/bbs/Japan_Travel/search?q=author%3Afanrei\">搜尋看板內 fanrei 的文章</a>,\n",
       " <a href=\"/bbs/Japan_Travel/M.1551603971.A.FE1.html\">[問題] 鹿兒島/宮崎 賞櫻行程請益 3/31～4/6</a>,\n",
       " <a href=\"/bbs/Japan_Travel/search?q=thread%3A%5B%E5%95%8F%E9%A1%8C%5D+%E9%B9%BF%E5%85%92%E5%B3%B6%2F%E5%AE%AE%E5%B4%8E+%E8%B3%9E%E6%AB%BB%E8%A1%8C%E7%A8%8B%E8%AB%8B%E7%9B%8A+3%2F31%EF%BD%9E4%2F6\">搜尋同標題文章</a>,\n",
       " <a href=\"/bbs/Japan_Travel/search?q=author%3AMiwaitte\">搜尋看板內 Miwaitte 的文章</a>,\n",
       " <a href=\"/bbs/Japan_Travel/M.1551604169.A.763.html\">[問題] 關西行程請益 (京都-奈良-大阪)</a>,\n",
       " <a href=\"/bbs/Japan_Travel/search?q=thread%3A%5B%E5%95%8F%E9%A1%8C%5D+%E9%97%9C%E8%A5%BF%E8%A1%8C%E7%A8%8B%E8%AB%8B%E7%9B%8A+%28%E4%BA%AC%E9%83%BD-%E5%A5%88%E8%89%AF-%E5%A4%A7%E9%98%AA%29\">搜尋同標題文章</a>,\n",
       " <a href=\"/bbs/Japan_Travel/search?q=author%3AMengfanwei\">搜尋看板內 Mengfanwei 的文章</a>,\n",
       " <a href=\"/bbs/Japan_Travel/M.1551604801.A.AF9.html\">[徵人] 05/14-05/22 福岡</a>,\n",
       " <a href=\"/bbs/Japan_Travel/search?q=thread%3A%5B%E5%BE%B5%E4%BA%BA%5D+05%2F14-05%2F22+%E7%A6%8F%E5%B2%A1\">搜尋同標題文章</a>,\n",
       " <a href=\"/bbs/Japan_Travel/search?q=author%3Aerror123\">搜尋看板內 error123 的文章</a>,\n",
       " <a href=\"/bbs/Japan_Travel/M.1528480874.A.9E2.html\">[公告] 日本旅遊板板規 107.06</a>,\n",
       " <a href=\"/bbs/Japan_Travel/search?q=thread%3A%5B%E5%85%AC%E5%91%8A%5D+%E6%97%A5%E6%9C%AC%E6%97%85%E9%81%8A%E6%9D%BF%E6%9D%BF%E8%A6%8F+107.06\">搜尋同標題文章</a>,\n",
       " <a href=\"/bbs/Japan_Travel/search?q=author%3Aneval\">搜尋看板內 neval 的文章</a>,\n",
       " <a href=\"/bbs/Japan_Travel/M.1548977781.A.9DE.html\">[公告] 108.2 實況回報(含天氣/物候/穿著詢問)  </a>,\n",
       " <a href=\"/bbs/Japan_Travel/search?q=thread%3A%5B%E5%85%AC%E5%91%8A%5D+108.2+%E5%AF%A6%E6%B3%81%E5%9B%9E%E5%A0%B1%28%E5%90%AB%E5%A4%A9%E6%B0%A3%2F%E7%89%A9%E5%80%99%2F%E7%A9%BF%E8%91%97%E8%A9%A2%E5%95%8F%29++\">搜尋同標題文章</a>,\n",
       " <a href=\"/bbs/Japan_Travel/search?q=author%3Asinohara\">搜尋看板內 sinohara 的文章</a>,\n",
       " <a href=\"/bbs/Japan_Travel/M.1551346129.A.804.html\">[資訊] 樂桃七周年促銷 (日本發 777日幣)</a>,\n",
       " <a href=\"/bbs/Japan_Travel/search?q=thread%3A%5B%E8%B3%87%E8%A8%8A%5D+%E6%A8%82%E6%A1%83%E4%B8%83%E5%91%A8%E5%B9%B4%E4%BF%83%E9%8A%B7+%28%E6%97%A5%E6%9C%AC%E7%99%BC+777%E6%97%A5%E5%B9%A3%29\">搜尋同標題文章</a>,\n",
       " <a href=\"/bbs/Japan_Travel/search?q=author%3Ayhls\">搜尋看板內 yhls 的文章</a>,\n",
       " <a href=\"/bbs/Japan_Travel/M.1551407363.A.405.html\">[資訊] 捷星台灣發促銷 (已開始)</a>,\n",
       " <a href=\"/bbs/Japan_Travel/search?q=thread%3A%5B%E8%B3%87%E8%A8%8A%5D+%E6%8D%B7%E6%98%9F%E5%8F%B0%E7%81%A3%E7%99%BC%E4%BF%83%E9%8A%B7+%28%E5%B7%B2%E9%96%8B%E5%A7%8B%29\">搜尋同標題文章</a>,\n",
       " <a href=\"/bbs/Japan_Travel/search?q=author%3Ayhls\">搜尋看板內 yhls 的文章</a>,\n",
       " <a href=\"/bbs/Japan_Travel/M.1551413846.A.053.html\">[資訊] 香草促銷 今晚11點起 KIX/OKA 220~</a>,\n",
       " <a href=\"/bbs/Japan_Travel/search?q=thread%3A%5B%E8%B3%87%E8%A8%8A%5D+%E9%A6%99%E8%8D%89%E4%BF%83%E9%8A%B7+%E4%BB%8A%E6%99%9A11%E9%BB%9E%E8%B5%B7+KIX%2FOKA+220~\">搜尋同標題文章</a>,\n",
       " <a href=\"/bbs/Japan_Travel/search?q=author%3Ayhls\">搜尋看板內 yhls 的文章</a>]"
      ]
     },
     "execution_count": 10,
     "metadata": {},
     "output_type": "execute_result"
    }
   ],
   "source": [
    "# Show data\n",
    "\n",
    "soup\n",
    "article_url = soup.find_all('a',attrs={'class':''})\n",
    "article_url"
   ]
  },
  {
   "cell_type": "code",
   "execution_count": null,
   "metadata": {},
   "outputs": [],
   "source": []
  }
 ],
 "metadata": {
  "kernelspec": {
   "display_name": "Python 3",
   "language": "python",
   "name": "python3"
  },
  "language_info": {
   "codemirror_mode": {
    "name": "ipython",
    "version": 3
   },
   "file_extension": ".py",
   "mimetype": "text/x-python",
   "name": "python",
   "nbconvert_exporter": "python",
   "pygments_lexer": "ipython3",
   "version": "3.7.2"
  }
 },
 "nbformat": 4,
 "nbformat_minor": 2
}
