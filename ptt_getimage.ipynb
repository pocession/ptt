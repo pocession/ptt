{
 "cells": [
  {
   "cell_type": "code",
   "execution_count": 1,
   "metadata": {},
   "outputs": [
    {
     "name": "stdout",
     "output_type": "stream",
     "text": [
      "Enter your url: https://www.ptt.cc/bbs/Beauty/M.1551150446.A.ABD.html\n",
      "['https://i.imgur.com/htPuP9a.jpg', 'https://i.imgur.com/htPuP9a.jpg', 'https://i.imgur.com/QFzkZ77.jpg', 'https://i.imgur.com/QFzkZ77.jpg', 'https://i.imgur.com/PCCIqLj.jpg', 'https://i.imgur.com/PCCIqLj.jpg', 'https://i.imgur.com/bHOsWls.jpg', 'https://i.imgur.com/bHOsWls.jpg', 'https://i.imgur.com/f96IZIB.jpg', 'https://i.imgur.com/f96IZIB.jpg', 'https://i.imgur.com/5kHfARZ.jpg', 'https://i.imgur.com/5kHfARZ.jpg', 'https://i.imgur.com/wRjkz6w.jpg', 'https://i.imgur.com/wRjkz6w.jpg', 'https://i.imgur.com/INcHk7l.jpg', 'https://i.imgur.com/INcHk7l.jpg', 'https://i.imgur.com/IQX3b09.jpg', 'https://i.imgur.com/IQX3b09.jpg', 'https://i.imgur.com/lO8GPi2.jpg', 'https://i.imgur.com/lO8GPi2.jpg', 'https://i.imgur.com/1BUXPL2.jpg', 'https://i.imgur.com/1BUXPL2.jpg']\n",
      "https://i.imgur.com/htPuP9a.jpg is ok\n",
      "https://i.imgur.com/htPuP9a.jpg is ok\n",
      "https://i.imgur.com/QFzkZ77.jpg is ok\n",
      "https://i.imgur.com/QFzkZ77.jpg is ok\n",
      "https://i.imgur.com/PCCIqLj.jpg is ok\n",
      "https://i.imgur.com/PCCIqLj.jpg is ok\n",
      "https://i.imgur.com/bHOsWls.jpg is ok\n",
      "https://i.imgur.com/bHOsWls.jpg is ok\n",
      "https://i.imgur.com/f96IZIB.jpg is ok\n",
      "https://i.imgur.com/f96IZIB.jpg is ok\n",
      "https://i.imgur.com/5kHfARZ.jpg is ok\n",
      "https://i.imgur.com/5kHfARZ.jpg is ok\n",
      "https://i.imgur.com/wRjkz6w.jpg is ok\n",
      "https://i.imgur.com/wRjkz6w.jpg is ok\n",
      "https://i.imgur.com/INcHk7l.jpg is ok\n",
      "https://i.imgur.com/INcHk7l.jpg is ok\n",
      "https://i.imgur.com/IQX3b09.jpg is ok\n",
      "https://i.imgur.com/IQX3b09.jpg is ok\n",
      "https://i.imgur.com/lO8GPi2.jpg is ok\n",
      "https://i.imgur.com/lO8GPi2.jpg is ok\n",
      "https://i.imgur.com/1BUXPL2.jpg is ok\n",
      "https://i.imgur.com/1BUXPL2.jpg is ok\n",
      "Done\n"
     ]
    }
   ],
   "source": [
    "# Get all pictures from a specific ptt article(post)\n",
    "\n",
    "import requests\n",
    "import re\n",
    "from bs4 import BeautifulSoup\n",
    "\n",
    "url = input(\"Enter your url: \")\n",
    "response = requests.get(url, cookies={'over18': '1'}) \n",
    "result = response.text\n",
    "soup = BeautifulSoup(result, 'html.parser')\n",
    "soup = soup.find_all('a')\n",
    "soup = str(soup)\n",
    "\n",
    "# Get all url of images\n",
    "# Find all imgur url\n",
    "image_url = re.findall(\"https://[a-z].imgur.com/[0-9a-zA-Z]{7}.[a-zA-z]{3}\",soup)\n",
    "print(image_url)\n",
    "\n",
    "k = 0\n",
    "\n",
    "while k < len(image_url):\n",
    "    filename = image_url[k].split(\"/\")[-1]\n",
    "    r = requests.get(image_url[k], stream=True)\n",
    "    if r.status_code == 200:\n",
    "        f = open(filename,'wb')\n",
    "        f.write(r.content)\n",
    "        print(\"{a} is ok\".format(a = image_url[k]))\n",
    "    k += 1\n",
    "print(\"Done\")"
   ]
  },
  {
   "cell_type": "code",
   "execution_count": null,
   "metadata": {},
   "outputs": [],
   "source": []
  }
 ],
 "metadata": {
  "kernelspec": {
   "display_name": "Python 3",
   "language": "python",
   "name": "python3"
  },
  "language_info": {
   "codemirror_mode": {
    "name": "ipython",
    "version": 3
   },
   "file_extension": ".py",
   "mimetype": "text/x-python",
   "name": "python",
   "nbconvert_exporter": "python",
   "pygments_lexer": "ipython3",
   "version": "3.7.2"
  }
 },
 "nbformat": 4,
 "nbformat_minor": 2
}
