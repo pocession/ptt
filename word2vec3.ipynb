{
 "cells": [
  {
   "cell_type": "code",
   "execution_count": 1,
   "metadata": {},
   "outputs": [
    {
     "name": "stdout",
     "output_type": "stream",
     "text": [
      "initialize\n",
      "Run main\n",
      "Enter the frequency threshold of words for training:2\n",
      "Run corpus_process\n",
      "Run corpus_process\n",
      "[(47, 0.7071067811865475), (49, 0.7071067811865475)]\n"
     ]
    }
   ],
   "source": [
    "# This sript is used for transforming words into vectors, and plot them on x-y scatter plots\n",
    "\n",
    "# Before using, words should be processed by following steps\n",
    "## Sentences of given articles are first breaked into words by Jieba\n",
    "## Words are pooled in a list (a bag of word)\n",
    "## Stop words are removed from word pools during processing\n",
    "## Processed words are concatenated to from a long string, stroed in a sqlite3 database\n",
    "\n",
    "import sqlite3\n",
    "from gensim import corpora, models, similarities\n",
    "\n",
    "\n",
    "# Remove words appearing only once (optional)\n",
    "def corpus_process(a,b):\n",
    "    print(\"Run corpus_process\")\n",
    "    input_list = a\n",
    "    frequency_threshold = b\n",
    "    from collections import defaultdict\n",
    "    frequency = defaultdict(int)\n",
    "    for token in input_list:\n",
    "        frequency[token] += 1\n",
    "            \n",
    "    return_list=[]\n",
    "    for token in input_list:\n",
    "        if frequency[token] > frequency_threshold:\n",
    "            return_list.append(token)\n",
    "    \n",
    "    return(return_list)\n",
    "    \n",
    "def main():\n",
    "    print(\"Run main\")\n",
    "    \n",
    "    # Read article content from database\n",
    "    conn = sqlite3.connect('ptt.db')\n",
    "    c = conn.cursor()\n",
    "    \n",
    "    cursor = c.execute(\"SELECT id, content from test\")\n",
    "    articleid = []\n",
    "    articlecontent = []\n",
    "    for row in cursor:\n",
    "        articleid.append(row[0])\n",
    "        articlecontent.append(row[1].split(','))\n",
    "    \n",
    "    frequency_threshold = input(\"Enter the frequency threshold of words for training:\")\n",
    "    processed_corpus=[]\n",
    "    i = 0\n",
    "    while i < len(articlecontent):\n",
    "        processed_corpus.append(corpus_process(articlecontent[i], int(frequency_threshold)))\n",
    "        i+=1\n",
    "    \n",
    "    dictionary = corpora.Dictionary(processed_corpus)\n",
    "    \n",
    "    bow_corpus = [dictionary.doc2bow(text) for text in processed_corpus]\n",
    "    \n",
    "    \n",
    "    from gensim import models\n",
    "    # train the model\n",
    "    tfidf = models.TfidfModel(bow_corpus)\n",
    "    # transform the input string\n",
    "    print(tfidf[dictionary.doc2bow(\"上越 新幹線 吃麵\".lower().split())])\n",
    "    \n",
    "    \n",
    "if __name__ == \"__main__\":\n",
    "    print(\"initialize\")\n",
    "    main() "
   ]
  },
  {
   "cell_type": "code",
   "execution_count": null,
   "metadata": {},
   "outputs": [],
   "source": []
  }
 ],
 "metadata": {
  "kernelspec": {
   "display_name": "Python 3",
   "language": "python",
   "name": "python3"
  },
  "language_info": {
   "codemirror_mode": {
    "name": "ipython",
    "version": 3
   },
   "file_extension": ".py",
   "mimetype": "text/x-python",
   "name": "python",
   "nbconvert_exporter": "python",
   "pygments_lexer": "ipython3",
   "version": "3.7.2"
  }
 },
 "nbformat": 4,
 "nbformat_minor": 2
}
